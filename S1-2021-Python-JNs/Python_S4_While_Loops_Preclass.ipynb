{
 "cells": [
  {
   "cell_type": "markdown",
   "metadata": {},
   "source": [
    "# SCI1022 session 4 pre-class material: `while` loops\n",
    "\n",
    "\n",
    "Computers are especially well-suited for repeating identical or similar tasks without making errors (for which most humans are not good at). In computer programming, the ability to run a block of statements repeatedly is called **repetition** or **iteration**. In the course of this document we will learn how we can use Python in order to automate repetitive tasks using the so-called `while` loops. "
   ]
  },
  {
   "cell_type": "markdown",
   "metadata": {},
   "source": [
    "# Motivating iteration with an example: degrees to radians conversion table  \n",
    "\n",
    "Let us motivate iteration with an example. In particular, let us assume that we want to write a program that prints on screen a table with two columns. The first column will contain angles measured in degrees, and the second column, the corresponding angles measured in radians. Assuming that we want to print at most two decimal places of the angle measured in radians, this table would look like: \n",
    "\n",
    "```\n",
    "  0 0.00\n",
    " 30 0.52\n",
    " 60 1.05\n",
    " 90 1.57\n",
    "120 2.09\n",
    "150 2.62\n",
    "180 3.14\n",
    "210 3.67\n",
    "240 4.19\n",
    "270 4.71\n",
    "300 5.24\n",
    "330 5.76\n",
    "360 6.28\n",
    "```\n",
    "\n",
    "## A naive approach  \n",
    "\n",
    "The formula for converting an angle which measures $D$ degrees into $R$ radians is \n",
    "\n",
    "$$R = D  \\frac{\\Pi}{180}$$\n",
    "\n",
    "In previous sessions, we learned how to write Python programs able to evaluate mathematical formulas as the one at hand. Following a naive approach, we can just repeat the statements that evaluate the formula for a single value of $D$ as many times as rows there are in the table above. For compactness, we can use several statements in the same line, separating each statement with a semi-colon (i.e., `;`). The whole program would look like as:"
   ]
  },
  {
   "cell_type": "code",
   "execution_count": null,
   "metadata": {},
   "outputs": [],
   "source": [
    "import math\n",
    "D=0  ; R=D*(math.pi/180); print(D,R)\n",
    "D=30 ; R=D*(math.pi/180); print(D,R)\n",
    "D=60 ; R=D*(math.pi/180); print(D,R)\n",
    "D=90 ; R=D*(math.pi/180); print(D,R)\n",
    "D=120; R=D*(math.pi/180); print(D,R)\n",
    "D=150; R=D*(math.pi/180); print(D,R)\n",
    "D=180; R=D*(math.pi/180); print(D,R)\n",
    "D=210; R=D*(math.pi/180); print(D,R)\n",
    "D=240; R=D*(math.pi/180); print(D,R)\n",
    "D=270; R=D*(math.pi/180); print(D,R)\n",
    "D=300; R=D*(math.pi/180); print(D,R)\n",
    "D=330; R=D*(math.pi/180); print(D,R)\n",
    "D=360; R=D*(math.pi/180); print(D,R)"
   ]
  },
  {
   "cell_type": "markdown",
   "metadata": {},
   "source": [
    "Run the program in the code cell above. The first thing you will observe is that the output on screen is not appropriately tabulated, and that we do not get two decimal places for the angle measured in radians. However, this is not such a big deal. We can improve the `print` statement using f-strings and appropriate format specifiers for `D` and `R`. We will come back to this later.\n",
    "\n",
    "The main issue with the program resulting from our naive approach is that many of its statements are identical and repeated. **It is tedious and error-prone to write this sort of repeated statements.** Imagine that we wanted to generate a table for different values $D$ to those in the code cell above, or even worse, to generate a table with many more values of $D$. There is a lot of manual work involved. \n",
    "\n",
    "**One of the main motivations for using a computer is to automate repetition.** To this end, all computer languages, and Python is not the exception here, have constructs in order to efficiently express repetition. These computer programming constructs are called **loops**. In Python we have two types of loops: `while` and `for` loops. Most programs that you will ever write will contain loops, so this concept is cornerstone and very important to grasp. \n",
    "\n",
    "## A more clever solution using a `while` loop\n",
    "\n",
    "**The `while` loop is a construct that allows the programmer to repeat a set of statements as far as a condition is true**; when the condition is false, the `while` loop stops. \n",
    "\n",
    "Our next goal is to automate the process of printing on screen the degrees to radians conversion table. For such a purpose, we will use a `while` loop. We start with $D=0$, i.e., an initial value of $D$ equal to zero degrees. We then increment $D$ by $\\Delta D = 30$ degrees across multiple steps as far as $D \\leq 360$. For each value of $D$, we compute the corresponding value of $R$, and print on screen the angle measured in degrees and radians. In addition, we want to print a line of dashes above and below the table.\n",
    "\n",
    "We can sketch the tasks to be performed as follows:\n",
    "\n",
    "* Print top table line using a line of dashes\n",
    "* Initialize $D$ to zero degrees\n",
    "* While $D \\leq 360$:\n",
    "    * $R = D  \\frac{\\Pi}{180}$\n",
    "    * Print $D$ and $R$\n",
    "    * Increment $D$ by $\\Delta D=30$ degrees\n",
    "* Print bottom table line using a line of dashes   \n",
    "\n",
    "This sort of sketch is called an *algorithm*. An algorithm is a high-level description of our programming task with the mechanical process that we want the computer to perform. As we will see immediately after this paragraph, in this particular case, the program text and the algorithm are very much alike. However, in general, writing an algorithm in paper before attempting the actual program text can come in handy in order to organize ideas, devise a solution approach, and/or express the process in a much more compact way than the resulting program text.\n",
    "\n",
    "The program text corresponding to the algorithm above looks like:"
   ]
  },
  {
   "cell_type": "code",
   "execution_count": null,
   "metadata": {},
   "outputs": [],
   "source": [
    "import math\n",
    "D  = 0\n",
    "AD = 30\n",
    "print(\"--------\")\n",
    "while D <= 360:\n",
    "    R = D*(math.pi/180)\n",
    "    print(f\"{D:3d} {R:.2f}\")\n",
    "    D = D + AD\n",
    "print(\"--------\")"
   ]
  },
  {
   "cell_type": "markdown",
   "metadata": {},
   "source": [
    "## Some important observations on the program text syntax\n",
    "\n",
    "At this point, it is relevant to stress some important Python features which are exposed in the program text above. Having these clear as soon as possible **can save a lot of pain down the road**:\n",
    "\n",
    "* The block of statements to be executed in each pass/iteration of the `while` loop **must be indented**. In the code cell above, this block consists of three statements, and all these statements **must have the same indentation**. \n",
    "* The first statement whose indentation matches that of the `while` loop marks the end of the loop, and is executed after the loop has terminated. In the code cell above, the statement that marks the end of the loop is the last `print` statement.\n",
    "* There **must be a colon** (i.e., `:`) at the end of the `while` line. This character at the end is essential as it marks the beginning of the block of statements inside the loop.\n",
    "\n",
    "> **Exercise**. Try to observe and understand what happens if either of the changes in the list above are performed in the code cell above. Perform each change individually, i.e., (1) change, re-run and undo change, (2) change, re-run, undo change, etc.\n",
    "> 1. We indent the last `print` statement as the other three statements within the `while` loop (i.e., we add 4 blank spaces at the beginning of that line).\n",
    "> 2. We use a different indentation (e.g., 2 blank spaces instead of 4) for any of the three statements within the `while` loop.\n",
    "> 3. To remove the colon at the end of the `while` line. \n",
    " \n",
    "## Walking through program execution step by step by hand \n",
    " \n",
    "At this point, it is convenient that we walk through the execution of the program above in detail. As novice programmers, it is a good skill to be able to simulate all the steps in a short program by hand. Let us do it! \n",
    "\n",
    "First, we define the initial value for the sequence of angles to be converted, i.e., `D = 0`. We also define the increment `AD` that will be added to `D` at each pass of the `while` loop. Then, we evaluate the loop condition `D <= 360`. The first time, `D` has the value `0`, which implies that `D <= 360` is evaluated to true. Since the loop condition is true, we enter the loop and execute all the (three) indented statements, namely: (1) compute `R` from `D` as given by the conversion formula, (2) print the angle in degrees and radians, and (3) increment `D` by `AD`.\n",
    "\n",
    "Thereafter, we enter the second iteration/pass of the loop. We check the condition again: `D` is `30` and `D <= 360` is still true. We execute the statements in the indented loop block, `D` becomes `60`, this is still less than or equal to `360`, so we enter the loop block again. This procedure is repeated until `D` is incremented from `360` to `390` in the final statement within the loop. When we then test the condition, `D <= 360`, this condition is evaluated to false (because `390` is larger than `360`), and the loop is terminated.\n",
    "\n",
    "During your first steps with programming, it may happen that you become confused by statements like\n",
    "\n",
    "```\n",
    "D = D + AD\n",
    "```\n",
    "\n",
    "This line looks erroneous from a mathematical viewpoint, but the statement is correct from a computer programming perspective. The key is that the expression on the right-hand side of the assignment statement is first evaluated (so that we compute the result of adding the value of `D` to the value of `AD`), and then the variable `D` is given the result of this evaluation. Although the previous value of the variable `D` is lost,  it does not actually matter, as we have already taken it into account when evaluating the expression on the right-hand side. \n",
    "\n",
    "## Visualizing program execution using Online Python Tutor \n",
    "\n",
    "When you face a piece of program text that you do not fully understand (this is normal at the beginning), we recommend that you try to simulate all the steps by hand in a piece of paper, as we did in the previous paragraphs. Alternatively, you can visualize the execution of a program using the so-called [Online Python Tutor](http://www.pythontutor.com/visualize.html). This is a splendid on-line visual resource for learning what happens with the variables and flow of execution in small programs. If you click [here](http://www.pythontutor.com/visualize.html#code=import%20math%0AD%20%20%3D%200%0AAD%20%3D%2030%0Aprint%28%22--------%22%29%0Awhile%20D%20%3C%3D%20360%3A%0A%20%20%20%20R%20%3D%20D*%28math.pi/180%29%0A%20%20%20%20print%28f%22%7BD%3A3d%7D%20%7BR%3A.2f%7D%22%29%0A%20%20%20%20D%20%3D%20D%20%2B%20AD%0Aprint%28%22--------%22%29&cumulative=false&curInstr=0&heapPrimitives=nevernest&mode=display&origin=opt-frontend.js&py=3&rawInputLstJSON=%5B%5D&textReferences=false) you will be able to visualize our program at hand.\n",
    "\n",
    "## A close look into boolean expressions. Comparison and logical operators\n",
    "\n",
    "In our example `while` loop above, we worked with a condition of the form `D<=360`. This condition evaluates to either true or false, depending on the value of `D`. Python uses the keywords `True` and `False` to refer to the value resulting from evaluating such kind of conditions. **Expressions that have either the value `True` or `False` are called logical or boolean expressions.**\n",
    "\n",
    "Other examples of boolean expressions involving other **comparison operators** (also known as relational) are provided in the code cells below. Run them one after the other and convince yourself that you understand the value resulting from evaluation. "
   ]
  },
  {
   "cell_type": "code",
   "execution_count": null,
   "metadata": {},
   "outputs": [],
   "source": [
    "D=390"
   ]
  },
  {
   "cell_type": "code",
   "execution_count": null,
   "metadata": {},
   "outputs": [],
   "source": [
    "D == 360 # Note the double == operator, checking for equality! (i.e., it is not an assignment statement)"
   ]
  },
  {
   "cell_type": "code",
   "execution_count": null,
   "metadata": {},
   "outputs": [],
   "source": [
    "D != 360"
   ]
  },
  {
   "cell_type": "code",
   "execution_count": null,
   "metadata": {},
   "outputs": [],
   "source": [
    "D >= 360"
   ]
  },
  {
   "cell_type": "code",
   "execution_count": null,
   "metadata": {},
   "outputs": [],
   "source": [
    "D > 360"
   ]
  },
  {
   "cell_type": "code",
   "execution_count": null,
   "metadata": {},
   "outputs": [],
   "source": [
    "D < 360"
   ]
  },
  {
   "cell_type": "markdown",
   "metadata": {},
   "source": [
    "Apart from the comparison operators above, Python also offers three **logical operators**: `not`, `and`, `or`.\n",
    "\n",
    "The `not` operator can be inserted in front of a boolean expression in order to negate it, i.e., to change its value from `True` to `False`, or from `False` to `True`, as illustrated in this code cell:"
   ]
  },
  {
   "cell_type": "code",
   "execution_count": null,
   "metadata": {},
   "outputs": [],
   "source": [
    "D=390\n",
    "not D == 360"
   ]
  },
  {
   "cell_type": "markdown",
   "metadata": {},
   "source": [
    "We first evaluate `D==360`. This is `False` (think why!), and `not` turns the value into `True`.\n",
    "\n",
    "Besides, boolean expressions can be combined with `and` and `or` to form new compound boolean expressions. If `condition1` and `condition2` are two boolean expressions with values `True` or `False`, we have that:\n",
    "\n",
    "* **`condition1 and condition2` is `True` if both `condition1` and `condition2` are `True`**.\n",
    "* **`condition1 or condition2` is `True` if at least one of the two conditions is `True`**.\n",
    "\n",
    "The code cells below provide some examples of compound boolean expressions. Run them! (and ensure that you understand the result!)\n"
   ]
  },
  {
   "cell_type": "code",
   "execution_count": null,
   "metadata": {},
   "outputs": [],
   "source": [
    "x=1; y=2;"
   ]
  },
  {
   "cell_type": "code",
   "execution_count": null,
   "metadata": {},
   "outputs": [],
   "source": [
    "x>=1 and y<1 # x>=1 is True but y<1 is False"
   ]
  },
  {
   "cell_type": "code",
   "execution_count": null,
   "metadata": {},
   "outputs": [],
   "source": [
    "x>=1 or y<1"
   ]
  },
  {
   "cell_type": "code",
   "execution_count": null,
   "metadata": {},
   "outputs": [],
   "source": [
    "x>1 or y>1"
   ]
  },
  {
   "cell_type": "code",
   "execution_count": null,
   "metadata": {},
   "outputs": [],
   "source": [
    "False or not True # The two conditions are False!"
   ]
  },
  {
   "cell_type": "markdown",
   "metadata": {},
   "source": [
    "Finally, it worths mentioning that, strictly speaking, the operands of logical operators should be boolean expressions. However, Python is not very strict in this regard. For example, any nonzero number is interpreted as `True`: "
   ]
  },
  {
   "cell_type": "code",
   "execution_count": null,
   "metadata": {},
   "outputs": [],
   "source": [
    "42 and True"
   ]
  },
  {
   "cell_type": "markdown",
   "metadata": {},
   "source": [
    "Indeed, any Python object can be used as an argument to a logical operator. However, there are a number of subtleties behind using non-boolean expressions as arguments to logical operators, so that we highly discourage its usage (unless you fully understand what you are doing).\n",
    "\n",
    "# Another example: mathematical summation of a series of numbers\n",
    "\n",
    "Summations of series of numbers frequently appear in mathematics. For instance, let us assume that we want to sum the squares of the first $N$ positive integer numbers, with $N \\geq 1$ a given input number. We denote as $S_N$ such a sum for a given value of $N$. Thus, e.g., we have that:\n",
    "\n",
    " * For $N=1$ $\\rightarrow$ $S_1=1^2=1$\n",
    " * For $N=2$ $\\rightarrow$ $S_2=1^2+2^2=5$\n",
    " * For $N=3$ $\\rightarrow$ $S_3=1^2+2^2+3^2=14$\n",
    " * For $N=4$ $\\rightarrow$ $S_4=1^2+2^2+3^2+4^2=30$\n",
    " * ...\n",
    " \n",
    "Writing out all the terms involved in these sums is a certainly tedious job (especially for large values of $N$). This task can be automated, e.g., using a `while` loop. This loop will make use of the following variables:\n",
    "  * A variable `i` that runs through positive integer numbers starting from `1` (i.e., `1,2,3,...`)\n",
    "  * A summation variable, `s`, which accumulates the terms in the sum, one at a time. At the end of the loop, `s` has the desired value of the sum.\n",
    "\n",
    "When the variable `i` is larger than $N$ we know that we have summed the $N$ terms of the sum. The purpose of each pass of the `while` loop is to compute a new term of the series and add it to `s`. This is performed by the following piece of Python code:"
   ]
  },
  {
   "cell_type": "code",
   "execution_count": null,
   "metadata": {},
   "outputs": [],
   "source": [
    "N=4\n",
    "s=0\n",
    "i=1\n",
    "while i<=N: \n",
    "    s=s+i**2            # Compute a new term in the series and add it to s\n",
    "    i=i+1               # Increment i by 1\n",
    "print(f\"The sum of the first N={N} positive integer numbers is S_N={s}\")"
   ]
  },
  {
   "cell_type": "markdown",
   "metadata": {},
   "source": [
    "As mentioned above, one of the best ways to understand a program is to simulate it manually. That is, we go through the statements, one by one, and write down in a piece of paper the state of the variables as the program runs. Alternatively, we can use the [Online Python Tutor](http://www.pythontutor.com/visualize.html).\n",
    "\n",
    "When we enter the `while` loop for the first time, `i <= N` implies `1 <= 4`, which is `True`, so we enter the two statements in the loop's body. There, \n",
    "  1. We compute `i**2` (`1**2`) and `s=s+i**2` (`s=0+1`). \n",
    "  2. Update the `i` variable from `1` to `2` (`i=1+1`). \n",
    "  \n",
    "Then we test the loop condition again prior to the second pass of the loop: `2 <= 4` is `True` so we enter the loop block again. This time we compute `2**2` and set `s=1+4`, and update the `i` variable from `2` to `3` (`i=2+1`). \n",
    "\n",
    "At some pass, `i` is updated from `4` to `5` inside the loop and the loop condition then becomes `5 <= 4`, which is `False`, implying that the program jumps over the loop block and continues with the `print` statement (which has the same indentation as the while statement).\n",
    "\n",
    "At this point, you may consider as an exercise how to extend the code above so that it only sums odd positive numbers, i.e., `1,3,5,7,...`"
   ]
  }
 ],
 "metadata": {
  "kernelspec": {
   "display_name": "Python 3",
   "language": "python",
   "name": "python3"
  },
  "language_info": {
   "codemirror_mode": {
    "name": "ipython",
    "version": 3
   },
   "file_extension": ".py",
   "mimetype": "text/x-python",
   "name": "python",
   "nbconvert_exporter": "python",
   "pygments_lexer": "ipython3",
   "version": "3.7.6"
  }
 },
 "nbformat": 4,
 "nbformat_minor": 4
}
