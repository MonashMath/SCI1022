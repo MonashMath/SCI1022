{
 "cells": [
  {
   "cell_type": "markdown",
   "metadata": {},
   "source": [
    "# SCI1022 session 4 pre-class material: conditional execution\n",
    "\n",
    "\n",
    "We introduce **conditional execution statements**, also known as `if` statements, or simply conditionals. Conditional statements come in handy whenever the flow of execution of a computer program needs to branch, i.e., to perform a different action depending on the evaluation of a logical (boolean) condition. (Boolean expressions are those that have either the value `True` or `False`). It turns out that in many different scenarios we need this ability of being able to execute different code depending on the state of the program.\n",
    "\n",
    "In the course of this document we will learn how to branch the program's flow of execution using `if` statements."
   ]
  },
  {
   "cell_type": "markdown",
   "metadata": {},
   "source": [
    "# Branching (conditional) statements\n",
    "\n",
    "The flow of instructions of a program often needs to branch, i.e., to execute a different set of instructions depending on the evaluation of logical (also known as boolean) conditions.  In this section we overview how we can express branching in Python, and the different variants of branching statements available.\n",
    "\n",
    "\n",
    "## Single `if` statements\n",
    "\n",
    "The simplest form of a conditional statement is the single `if` statement:\n",
    "\n",
    "```Python\n",
    "if condition:\n",
    "    <block of statements>\n",
    "<next statement>\n",
    "```\n",
    "\n",
    "`if` statements have the same structure as function definitions: a header followed by an indented body (i.e., `<block of statements>`). If the `condition` after the `if` keyword is evaluated to `True`, then the indented `<block of statements>` is executed. If it is evaluated to `False`, then nothing happens, i.e., the `<block of statements>` is not executed. In either case, the program's flow moves to `<next statement>`.\n",
    "\n",
    "The behavior of the single `if` statement is illustrated in the cells below."
   ]
  },
  {
   "cell_type": "code",
   "execution_count": null,
   "metadata": {},
   "outputs": [],
   "source": [
    "x=3\n",
    "if x>0:\n",
    "    print(\"x is positive\")\n",
    "print(\"next statement\")"
   ]
  },
  {
   "cell_type": "code",
   "execution_count": null,
   "metadata": {},
   "outputs": [],
   "source": [
    "x=-1\n",
    "if x>0:\n",
    "    print(\"x is positive\")\n",
    "print(\"next statement\")"
   ]
  },
  {
   "cell_type": "markdown",
   "metadata": {},
   "source": [
    "In both code cells, `<block of statements>` is composed of a single statement, although this block can contain as many statements as you like. \n",
    "\n",
    "While the first cell prints the message `\"x is positive\"` on screen, the second does not, as `x>0` evaluates to `False` when `x` is equal to `-1`. Both cells print the `\"next statement\"` message on screen, as the indentation of `print(\"next statement\")` matches the one of the `if`, and thus marks the end of its body. \n",
    "\n",
    "## Alternative execution (`if-else` blocks)\n",
    "\n",
    "A second form of branching statements is the so-called `if-else` blocks. In this form, there are two possibilities, and the condition determines which one of these gets executed. The syntax is as follows:\n",
    "\n",
    "```Python\n",
    "if condition:\n",
    "    <block of statements, executed if condition is True>\n",
    "else:\n",
    "    <block of statements, executed if condition is False>\n",
    "```\n",
    "\n",
    "When `condition` evaluates to `True`, the program flow branches into the first block of statements. If `condition` evaluates to `False`, the program flow jumps to the second block of statements, right after the `else:` line. The two blocks of statements are indented, as with the single `if` statement. Since the `condition` must be either `True` or `False`, **one and only one of the two alternatives gets executed.**\n",
    "\n",
    "This is illustrated in the two code cells below. Run them and figure out the reason behind the message which is printed in each case."
   ]
  },
  {
   "cell_type": "code",
   "execution_count": null,
   "metadata": {},
   "outputs": [],
   "source": [
    "x=3\n",
    "if x>0:\n",
    "    print(\"x is positive\")\n",
    "else:\n",
    "    print(\"x is zero or negative\")"
   ]
  },
  {
   "cell_type": "code",
   "execution_count": null,
   "metadata": {},
   "outputs": [],
   "source": [
    "x=-1\n",
    "if x>0:\n",
    "    print(\"x is positive\")\n",
    "else:\n",
    "    print(\"x is zero or negative\")"
   ]
  },
  {
   "cell_type": "markdown",
   "metadata": {},
   "source": [
    "## Chained conditionals (`if-elif-...-else` blocks)\n",
    "\n",
    "Sometimes there are more than two possibilities, so that we need more than two branches. One way to express a computation like that is a chained conditional, that allows for multiple branching of the program flow. The most general syntax of a chained conditional is as follows:\n",
    "\n",
    "```Python\n",
    "if condition1:\n",
    "    <block of statements>\n",
    "elif condition2:\n",
    "    <block of statements>\n",
    "elif condition3:\n",
    "    <block of statements>\n",
    "else:\n",
    "    <block of statements>\n",
    "<next statement>\n",
    "```\n",
    "\n",
    "`elif` is an abbreviation to \"else if\". \n",
    "\n",
    "As with `if-else` blocks, **one and only one branch will run**. Which one? The first one, in top-to-bottom order, for which the associated `condition` evaluates to `True`, or the one associated to the `else` branch if all conditions are `False`.  Thus, even if more than one condition is `True`, only the first `True` branch runs. \n",
    "\n",
    "There is no limit on the number of `elif` branches. If there is an `else` clause, it has to be at the end, but there doesn't have to be one.\n",
    "\n",
    "The behaviour of this statement is illustrated with examples in the code cells below. Run them and figure out the reason behind the message which is printed (if any) in each case."
   ]
  },
  {
   "cell_type": "code",
   "execution_count": null,
   "metadata": {},
   "outputs": [],
   "source": [
    "x=-1\n",
    "if x>0:\n",
    "    print(\"x is positive\")\n",
    "elif x<0:\n",
    "    print(\"x is negative\")\n",
    "else:\n",
    "    print(\"x is zero\")"
   ]
  },
  {
   "cell_type": "code",
   "execution_count": null,
   "metadata": {},
   "outputs": [],
   "source": [
    "x=0\n",
    "if x>0:\n",
    "    print(\"x is positive\")\n",
    "elif x<0:\n",
    "    print(\"x is negative\")\n",
    "else:\n",
    "    print(\"x is zero\")"
   ]
  },
  {
   "cell_type": "code",
   "execution_count": null,
   "metadata": {},
   "outputs": [],
   "source": [
    "x=0\n",
    "if x>0:\n",
    "    print(\"x is positive\")\n",
    "elif x<0:\n",
    "    print(\"x is negative\")"
   ]
  },
  {
   "cell_type": "markdown",
   "metadata": {},
   "source": [
    "The last code cell is not printing any message on screen. *How can this be?* Note that the conditional block does not have an `else:` clause at the end. Thus, if all conditions are evaluated to `False`, as in this case (i.e., `0` is not a positive nor a negative number), no branch is actually executed. `if-elif-...-elif` statements that lack an `else:` clause are the only ones for which it is possible that no branch is executed.  "
   ]
  },
  {
   "cell_type": "markdown",
   "metadata": {},
   "source": [
    "## Conditionals can be nested\n",
    "\n",
    "Any of the three forms of conditional statements seen above (i.e., single `if`, `if-else`, and `if-elif-...-else`) can be nested within another. The example in the previous section could have been written in the following equivalent, nested form:"
   ]
  },
  {
   "cell_type": "code",
   "execution_count": null,
   "metadata": {},
   "outputs": [],
   "source": [
    "x=-1\n",
    "if x>0:\n",
    "    print(\"x is positive\")\n",
    "else:\n",
    "    if x<0:\n",
    "        print(\"x is negative\")\n",
    "    else:\n",
    "        print(\"x is zero\")"
   ]
  },
  {
   "cell_type": "markdown",
   "metadata": {},
   "source": [
    "The outer conditional contains two branches. The first branch contains a simple statement (i.e., `print(\"x is positive\")`). The second branch in turn contains an inner `if-else` statement, which has two branches of its own. Those two branches are both simple statements, although they could have been conditional statements as well."
   ]
  }
 ],
 "metadata": {
  "kernelspec": {
   "display_name": "Python 3",
   "language": "python",
   "name": "python3"
  },
  "language_info": {
   "codemirror_mode": {
    "name": "ipython",
    "version": 3
   },
   "file_extension": ".py",
   "mimetype": "text/x-python",
   "name": "python",
   "nbconvert_exporter": "python",
   "pygments_lexer": "ipython3",
   "version": "3.7.6"
  }
 },
 "nbformat": 4,
 "nbformat_minor": 4
}
