{
 "cells": [
  {
   "cell_type": "markdown",
   "metadata": {},
   "source": [
    "# SCI1022 session 4 in-class tasks: `while` loops and `if` statements\n",
    "\n",
    "\n",
    "# Instructions \n",
    "\n",
    "* Complete the tasks stated below. Read the task statements carefully and  follow the instructions thoroughly.\n",
    "* For each task, there will be a clearly marked code cell where you have to either modify the program text provided, or to write your own from scratch. \n",
    "* When you finish all tasks, **upload this Jupyter notebook in Moodle with the tasks solved**. Before submitting, **we highly encourage that you restart the Jupyter Kernel, and then execute all code cells in the search of unnoticed errors.** In order to restart  the Jupyter kernel and run all cells in sequence afterwards you can use the `Kernel->Restart & Run All` option in the menu at the top of the browser page. \n",
    "*  Ask your instructors for help at any time.\n",
    "\n",
    "# Task statements\n",
    "\n",
    "> <span style=\"color:red\">**Task 1.**</span> **Print a formatted Fahrenheit to Celsius degrees conversion table**. The table must have four columns, no header nor footer, and contain the following data:\n",
    ">* 1st column: temperatures in Fahrenheit degrees. In particular, 0,10,20,...,100. Thus, the table will have 11 rows.\n",
    ">* 2nd column: the temperatures corresponding to the first column measured in Celsius degrees. The formula for converting $F$ Fahrenheit degrees into Celsius degrees is $C=(F-32)\\frac{5}{9}$, where $C$ denotes temperature in Celsius degrees. \n",
    ">* 3rd column: the temperatures corresponding to the first column measured in **approximated** Celsius degrees, i.e., given by the frequently-used, faster conversion formula $C \\approx \\hat{C} = \\frac{(F-30)}{2}$.\n",
    ">* 4th column: the absolute error among the second and the third column, i.e., the absolute value of their difference. The Python built-in function `abs(x)` provides the absolute value of `x`. \n",
    ">\n",
    "> Besides, the table must be formatted as follows:\n",
    "> * Columns must be 10 characters wide each, and be separated by a blank space in-between. \n",
    "> * The first three columns must be formatted in decimal notation using 2 decimal digits, and the last column in scientific notation with 2 decimal digits as well. (For example, the real number `0.000000123` is written as `1.23e-7` in scientific notation with 2 decimal digits, where `e-7` denotes $10^{-7}$.) \n",
    "> * As a hint, the f-string format identifiers to be used for the first three columns and fourth column are `10.2f`, and `10.2e`, respectively. \n",
    ">\n",
    "> For your convenience, a skeleton cell code is provided below.\n",
    "> \n",
    "> **IMPORTANT NOTE**: While programming with loops, chances are high that you end up with an infinite loop. If this happens, you will have the label `In [*]` indefinitely at the left hand side of the cell, and you have to interrupt the kernel. To this end, left-click on the left-hand side margin of the cell, and hit the keyboard key labeled as `i` twice. \n",
    ">"
   ]
  },
  {
   "cell_type": "code",
   "execution_count": null,
   "metadata": {},
   "outputs": [],
   "source": [
    "# Code cell where you have to solve Task 1\n",
    "F=___             # Initialize F to first temperature in Fahrenheit degrees\n",
    "while __:         # Which boolean condition should we use here?\n",
    "    C  = ___      # Compute temperature in Celsius degrees\n",
    "    CA = ___      # Compute approximate temperature in Celsius degrees\n",
    "    E  = ___      # Compute absolute error among C and CA\n",
    "    ___           # Print a new row of the table\n",
    "    ___           # Increment F (by how much?)"
   ]
  },
  {
   "cell_type": "markdown",
   "metadata": {},
   "source": [
    "> <span style=\"color:red\">**Task 2.**</span> **A simple yes/no classifier for vertebrates**. Write a program that is able to classify vertebrates, i.e., animals with a backbone. The program will ask the user a series of questions regarding four attributes, and after it has asked enough questions, it will infer the taxonomic \"class\" of the animal (mammal, bird, reptile, etc.). In particular, the series of questions are as follows:\n",
    "> 1. Is the animal warm-blooded? \n",
    "> 2. Does the animal give birth on land?\n",
    "> 3. Does the animal have feathers?\n",
    "> 4. Does the animal have scales?\n",
    ">\n",
    "> Given these four attributes, the five classes of vertebrates can be distinguished as illustrated in the table below.\n",
    "\n",
    "|          | Mammals | Birds | Reptiles | Amphibians | Fish  | \n",
    "|----------|---------|-------|----------|------------|-------|\n",
    "| _Warm-blooded?_    | Yes    | Yes  | No     | No       | No  |\n",
    "| _Birth on land?_    | Yes    | Yes  | Yes     | No      | No |\n",
    "| _Feathers?_ | No      | Yes   | No       | No         | No    |\n",
    "| _Scales?_   | No      | No    | Yes      | No         | Yes   |\n",
    "\n",
    "> The program must be written accordingly to the following rules and rationale:\n",
    "> 1. The questions should be asked exactly in the order listed above (although note that any order would be actually possible). \n",
    "> 2. The program must stop asking questions as soon as it has enough information to infer the class of the animal. \n",
    "> For example, if the animal is not warm-blooded, and it gives birth on land, then we know that it is a reptile, and we do not have to continue asking questions (think why!).\n",
    "> 4. The program must skip questions that do not provide further information. For example, if the animal is warm-blooded, it does not give us additional information to know that it gives birth on land (think why!).\n",
    "> 5. All questions to be asked are either answered with `y` or `n`, that is, **we assume that, for each question, the user is going to either hit the key labeled as `y` or `n` in the keyboard, and then press Enter**.\n",
    "> 6. The output of the program must be provided in a variable named `animal_class`. This variable must be a variable of type `str`, with value restrictred to `\"mammal\"`, `\"bird\"`, `\"reptile\"`, `\"amphibian\"`, or `\"fish\"`, depending on the animal at hand. \n",
    "> 7. The program **must only print** the value of `animal_class` without f-string format identifier.\n",
    ">\n",
    "> You will need to nest `if`-statements inside other `if`-statements. Remember to indent your code appropriately."
   ]
  },
  {
   "cell_type": "code",
   "execution_count": null,
   "metadata": {},
   "outputs": [],
   "source": [
    "# Code cell where you have to solve Task 2\n",
    "animal_class=\"unknown\"\n",
    "warm_blooded=input(\"Is the animal warm-blooded?\")\n",
    "if ___: # Boolean condition: Is the animal warm-blooded?\n",
    "    ___ # Complete the code in the if branch!\n",
    "else:\n",
    "    ___ # Complete the code in the else branch!\n",
    "print(animal_class)"
   ]
  },
  {
   "cell_type": "markdown",
   "metadata": {},
   "source": [
    "> <span style=\"color:red\">**Task 3.**</span> **Print a formatted table with formula evaluations**. Write a program that prints a nicely formatted table of $t$ (first column) and $y(t)$ (second column) values, out of the formula\n",
    ">\n",
    "> $$y(t)=v_0t-\\frac{1}{2}gt^2,$$\n",
    ">\n",
    "> which describes the vertical motion of a ball. The table must be generated using $N+1$ **equispaced** values of $t$ (i.e., spaced apart at equal distances) in the interval $[0,2 \\frac{v_0}{g}]$, where $N \\geq 1$ is a given positive number. The first value must be $t=0$, and the last value $t=2\\frac{v_0}{g}$.  \n",
    "> Rules and hints:\n",
    "> * Columns must be 5 characters wide each, formatted in decimal notation using 2 decimal digits, and separated by a single space. \n",
    "> * The code must use a `while` loop. \n",
    "> * It is best, to avoid trouble with rounding errors, that you write your loop condition such that it only depends on integer numbers.\n",
    "> * The distance among two consecutive values of $t$, is given by $\\delta t = 2\\frac{v_0}{Ng}$.\n",
    "> * Set $N=10$, $v_0=10 \\frac{m}{s}$, and $g=9.81 \\frac{m}{s^2}$, and submit your task with this value set."
   ]
  },
  {
   "cell_type": "code",
   "execution_count": 3,
   "metadata": {},
   "outputs": [],
   "source": [
    "# Code cell where you have to solve Task 3"
   ]
  },
  {
   "cell_type": "markdown",
   "metadata": {},
   "source": [
    "---\n",
    "---\n",
    "---"
   ]
  },
  {
   "cell_type": "markdown",
   "metadata": {},
   "source": [
    "# Optional (does NOT contribute to the mark)"
   ]
  },
  {
   "cell_type": "markdown",
   "metadata": {},
   "source": [
    "> <span style=\"color:red\">**Optional Task.**</span> **Summation of series of numbers**. Write a program that performs the sum of the first $N$ odd positive numbers. Examples: \n",
    "> * for $N=1$, the sought-after sum is equal to 1, \n",
    "> * for $N=2$, the sought-after sum is equal to 4 (i.e., 1+3), \n",
    "> * for $N=4$, the sought-after sum is equal to 16 (i.e., 1+3+5+7).\n",
    ">\n",
    "> Your solution **must use** a `while` loop, and **store the result in a variable called `s`.** Set $N=333$, and submit your task with this value set. The program **must only print** the value of `s` without f-string format identifier.\n",
    ">\n",
    "> Note: _While you must use iteration in the exercise, we stress that it is not actually needed in practice. The sum of the first $N$ odd numbers is just given by $N^2$. You can use this formula to check that your program is correct._"
   ]
  },
  {
   "cell_type": "code",
   "execution_count": 5,
   "metadata": {},
   "outputs": [],
   "source": [
    "# Code cell where you can solve optional task"
   ]
  }
 ],
 "metadata": {
  "kernelspec": {
   "display_name": "Python 3",
   "language": "python",
   "name": "python3"
  },
  "language_info": {
   "codemirror_mode": {
    "name": "ipython",
    "version": 3
   },
   "file_extension": ".py",
   "mimetype": "text/x-python",
   "name": "python",
   "nbconvert_exporter": "python",
   "pygments_lexer": "ipython3",
   "version": "3.7.6"
  }
 },
 "nbformat": 4,
 "nbformat_minor": 4
}
