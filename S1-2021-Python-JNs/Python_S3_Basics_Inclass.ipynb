{
 "cells": [
  {
   "cell_type": "markdown",
   "metadata": {},
   "source": [
    "# SCI1022 session 3 in-class tasks: The basics of computer programming in Python exemplified with the evaluation of mathematical formulas\n",
    "\n",
    "\n",
    "# Instructions \n",
    "\n",
    "* Complete the tasks stated below. Read the task statements carefully and  follow the instructions thoroughly.\n",
    "* For each task, there will be a clearly marked code cell where you have to either modify the program text provided, or to write your own from scratch. \n",
    "* When you finish all tasks, **upload this Jupyter notebook in Moodle with the tasks solved**. Before submitting, **we highly encourage that you restart the Jupyter Kernel, and then execute all code cells in the search of unnoticed errors.** In order to restart  the Jupyter kernel and run all cells in sequence afterwards you can use the `Kernel->Restart & Run All` option in the menu at the top of the browser page. \n",
    "*  Ask your instructors for help at any time.\n",
    "\n",
    "# Task statements\n",
    "\n",
    "> <span style=\"color:red\">**Task 1.**</span> **How much an initial amount of money growths in a bank?** We place an initial amount of $A$ dollars in a bank account which offers an interest rate denoted with $p$, measured in percent per year. After $n$ years, the final amount to which $A$ has grown is given by \n",
    ">\n",
    ">   $$A\\left(1+\\frac{p}{100} \\right)^n.$$\n",
    "> \n",
    "> Write a program that computes and prints on screen how much 1000 dollars have grown to after three years with 5 percent interest rate. Use variables to store $A$, $p$, and $n$. The result **MUST BE STORED** in a variable named `final_amount`. The program **must only print** the value of `final_amount` using the `.2f` f-string format identifier.\n",
    ">"
   ]
  },
  {
   "cell_type": "code",
   "execution_count": null,
   "metadata": {},
   "outputs": [],
   "source": [
    "# Code cell where you have to solve Task 1"
   ]
  },
  {
   "cell_type": "markdown",
   "metadata": {},
   "source": [
    "> <span style=\"color:red\">**Task 2.**</span> **Unit conversion.** Starting from the partial code with gaps ___ in the cell below:\n",
    "> 1. Write a Python program where you set a length in meters and then compute the corresponding length measured in inches, feet, yards, and in miles. Use that one inch is 2.54 cm, one foot is 12 inches, one yard is 3 feet, and one British mile is 1760 yards. Test the program with a length of 800 meters and submit your task with this value set. The length in meters, and the corresponding conversions, **MUST BE STORED** in variables named `meters`, `inches`, `feet`, `yards`, and `miles`.\n",
    ">\n",
    ">\n",
    "> 2. Print on screen the data that you computed in the previous step tabulated as follows:\n",
    "> ```\n",
    "   Meters     Inches       Feet      Yards      Miles\n",
    "   400.00   15748.03    ????.??     ???.??     0.2485\n",
    ">  ```  \n",
    ">  i.e., columns of 10 characters in length, separated by a single space, and right-justified content. All floating point numbers must be printed in decimal notation with two decimal digits (e.g., `15748.03`), except the length in miles, for which we will use four decimal digits (i.e., `0.2485`). To this end, see the f-string format specifiers already provided below for the first column of the table, and deduce the one for the rest of columns. Format specifiers are exposed in [this section](https://docs.python.org/3/library/string.html#format-specification-mini-language) of the Python reference documentation, although the partial code provided below should be sufficient to complete the task."
   ]
  },
  {
   "cell_type": "code",
   "execution_count": null,
   "metadata": {},
   "outputs": [],
   "source": [
    "# Code cell where you have to solve Task 2\n",
    "\n",
    "meters=___  # Set length in meters\n",
    "___         # Convert length to inches and store the result in a variable called inches\n",
    "___         # Convert length to feet and store the result in a variable called feet \n",
    "___         # Convert length to yards and store the result in a variable called yards\n",
    "___         # Convert length to miles and store the result in a variable called miles\n",
    "\n",
    "print(f\"{'Meters':>10s} {___} {___} {___} {___}\")\n",
    "print(f\"{meters:>10.2f} {___} {___} {___} {___}\")"
   ]
  },
  {
   "cell_type": "markdown",
   "metadata": {},
   "source": [
    "> <span style=\"color:red\">**Task 3.**</span> **Gaussian function.** The bell-shaped [Gaussian function](https://en.wikipedia.org/wiki/Gaussian_function) is given by \n",
    ">\n",
    ">$$\n",
    "f(x) = \\frac{1}{s\\sqrt{2\\pi}} \\mathrm{exp}\\left[ -\\frac{1}{2} \\  \\left(\\frac{x-m}{s}\\right)^2 \\right]\n",
    "$$\n",
    ">\n",
    "> The parameters $m$ and $s>0$ are prescribed real numbers. Perform the following tasks in sequence:\n",
    "> 1. Make a program for evaluating this function with $m=0$, $s=2$, and $x=1$. Verify the program result by comparing with hand calculations using a calculator. \n",
    "> 2. Modify the program such that the values of $m$, $s$, and $x$ are provided by the user from the keyboard. \n",
    ">\n",
    "> The result **MUST BE STORED** in a variable named `f_x`. The program **must only print** the value of `f_x` using the `.4f` f-string format identifier."
   ]
  },
  {
   "cell_type": "code",
   "execution_count": null,
   "metadata": {},
   "outputs": [],
   "source": [
    "# Code cell where you have to solve Task 3"
   ]
  },
  {
   "cell_type": "markdown",
   "metadata": {},
   "source": [
    "> <span style=\"color:red\">**Task 4.**</span> **Find and fix errors.** \n",
    "> Analyze the code cells below, and execute them. When they have errors, identify and correct the erroneous statements accordingly to the description given at the top of each cell. A message must be printed per each cell.\n",
    "\n",
    "\n",
    "Check that $\\rm{sin}^2(x) + \\rm{cos}^2(x)$ is equal to 1."
   ]
  },
  {
   "cell_type": "code",
   "execution_count": null,
   "metadata": {},
   "outputs": [],
   "source": [
    "from math import pi\n",
    "x = pi/4\n",
    "1_val = sin^2(x) + cos^2(x)\n",
    "print(f\"{1_VAL:10.6f}\")"
   ]
  },
  {
   "cell_type": "markdown",
   "metadata": {},
   "source": [
    "Compute $s$ in meters with $s=v_0 t+\\frac{1}{2}at^2$, with $v_0=3$ m/s, $t=1$ s, $a=2$ m/$s^2$."
   ]
  },
  {
   "cell_type": "code",
   "execution_count": null,
   "metadata": {},
   "outputs": [],
   "source": [
    "v0 = 3 m/s\n",
    "t = 1 s\n",
    "a = 2 m/s**2\n",
    "s = v0.t + 0,5.a.t**2\n",
    "print(\"{s:.6f}\")"
   ]
  },
  {
   "cell_type": "markdown",
   "metadata": {},
   "source": [
    "Verify these equations: \n",
    "$$\n",
    "(a+b)^2 = a^2+2ab+b^2\n",
    "$$\n",
    "\n",
    "$$\n",
    "(a-b)^2 = a^2-2ab+b^2\n",
    "$$"
   ]
  },
  {
   "cell_type": "code",
   "execution_count": null,
   "metadata": {},
   "outputs": [],
   "source": [
    "a = 3   b = 5\n",
    "a2 = a**2\n",
    "b2 = b**2\n",
    "\n",
    "eq1_sum = a2 + 2ab + b2\n",
    "eq2_sum = a2 - 2ab + b2\n",
    "\n",
    "eq1_pow = (a + b)**2\n",
    "eq2_pow = (a - b)**2\n",
    "\n",
    "print(f'First equation: {eq1_sum} = {eq1_pow}')\n",
    "print('Second equation: {eq1_sum} = {eq2_pow}')"
   ]
  }
 ],
 "metadata": {
  "kernelspec": {
   "display_name": "Python 3",
   "language": "python",
   "name": "python3"
  },
  "language_info": {
   "codemirror_mode": {
    "name": "ipython",
    "version": 3
   },
   "file_extension": ".py",
   "mimetype": "text/x-python",
   "name": "python",
   "nbconvert_exporter": "python",
   "pygments_lexer": "ipython3",
   "version": "3.7.6"
  }
 },
 "nbformat": 4,
 "nbformat_minor": 4
}
