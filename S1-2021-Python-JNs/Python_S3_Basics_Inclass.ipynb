{
 "cells": [
  {
   "cell_type": "markdown",
   "metadata": {},
   "source": [
    "# SCI1022 session 3 in-class tasks: The basics of computer programming in Python exemplified with the evaluation of mathematical formulas\n",
    "\n",
    "\n",
    "# Instructions \n",
    "\n",
    "* Complete the tasks stated below. Read the task statements carefully and  follow the instructions thoroughly.\n",
    "* For each task, there will be a clearly marked code cell where you have to either modify the program text provided, or to write your own from scratch. \n",
    "* When you finish all tasks, **upload this Jupyter notebook in Moodle with the tasks solved**. Before submitting, **we highly encourage that you restart the Jupyter Kernel, and then execute all code cells in the search of unnoticed errors.** In order to restart  the Jupyter kernel and run all cells in sequence afterwards you can use the `Kernel->Restart & Run All` option in the menu at the top of the browser page. \n",
    "*  Ask your instructors for help at any time.\n",
    "\n",
    "# Task statements\n",
    "\n",
    "TBA"
   ]
  }
 ],
 "metadata": {
  "kernelspec": {
   "display_name": "Python 3",
   "language": "python",
   "name": "python3"
  },
  "language_info": {
   "codemirror_mode": {
    "name": "ipython",
    "version": 3
   },
   "file_extension": ".py",
   "mimetype": "text/x-python",
   "name": "python",
   "nbconvert_exporter": "python",
   "pygments_lexer": "ipython3",
   "version": "3.7.6"
  }
 },
 "nbformat": 4,
 "nbformat_minor": 4
}
