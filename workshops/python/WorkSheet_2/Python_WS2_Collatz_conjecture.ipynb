{
 "cells": [
  {
   "cell_type": "markdown",
   "metadata": {},
   "source": [
    "# SCI1022 Python workshop 2:  \n",
    "# The Collatz conjecture"
   ]
  },
  {
   "cell_type": "markdown",
   "metadata": {},
   "source": [
    "**Questions** are marked with bold headings. Usually you answer questions by writing code to perform a particular task.\n",
    "\n",
    "Ask your instructor or teaching associates (TA) for help at any time."
   ]
  },
  {
   "cell_type": "markdown",
   "metadata": {},
   "source": [
    "## Introducing the Collatz conjecture"
   ]
  },
  {
   "cell_type": "markdown",
   "metadata": {},
   "source": [
    "Each week we focus on new coding skills, but we also focus on a different area of science. \n",
    "\n",
    "Last week was biology - taxonomy in particular. This week is pure mathematics. \n",
    "\n",
    "But don't worry, we will consider a problem that can be explained to anyone who understands how to multiply, add and halve... but is still an unsolved mystery of mathematics.\n",
    "\n",
    "We're going to see how a very simple function, applied to its result over and over (\"mathematical iteration\"), can lead to very complicated behaviour. Computers are ideal for exploring such mathematics."
   ]
  },
  {
   "cell_type": "markdown",
   "metadata": {},
   "source": [
    "---\n",
    "\n",
    "### **Question 1**: The Collatz function"
   ]
  },
  {
   "cell_type": "markdown",
   "metadata": {},
   "source": [
    "Define a function `collatz` which takes a single argument, and:\n",
    "* if given an even number, returns half the number.\n",
    "* if given an odd number, three times the number plus one.\n",
    "\n",
    "We'll assume that your function will be given an integer, so it is either even or odd, and can never be neither.\n",
    "\n",
    "*Hint*: Python uses the % operator for \"remainder after division\", so that 3 % 3 is zero, and 4 % 3 is one."
   ]
  },
  {
   "cell_type": "code",
   "execution_count": null,
   "metadata": {},
   "outputs": [],
   "source": [
    "## Your definition of the Collatz function..."
   ]
  },
  {
   "cell_type": "markdown",
   "metadata": {},
   "source": [
    "Test your function on a few integers:"
   ]
  },
  {
   "cell_type": "code",
   "execution_count": null,
   "metadata": {},
   "outputs": [],
   "source": [
    "## Your test of your Collatz function..."
   ]
  },
  {
   "cell_type": "markdown",
   "metadata": {},
   "source": [
    "---"
   ]
  },
  {
   "cell_type": "markdown",
   "metadata": {},
   "source": [
    "### Integer division - a refresher"
   ]
  },
  {
   "cell_type": "markdown",
   "metadata": {},
   "source": [
    "Look at the data types of what your `collatz` function returns. We'd like collatz to return an integer (int) always. \n",
    "\n",
    "There are a few ways to do this, but we suggest using *integer division*. \n",
    "\n",
    "You probably learnt integer division in school, before you learnt about decimals or fractions.\n",
    "\n",
    "Execute the following cells to remind yourself about integer quotients and remainders, and see how they are done in python."
   ]
  },
  {
   "cell_type": "code",
   "execution_count": null,
   "metadata": {},
   "outputs": [],
   "source": [
    "numerator   = 7\n",
    "denominator = 3\n",
    "\n",
    "quotient  = numerator // denominator\n",
    "remainder = numerator %  denominator\n",
    "\n",
    "print(f\"Divide {numerator} by {denominator} gives a\")\n",
    "print(f\"quotient of {quotient} and a remainder of {remainder}\")"
   ]
  },
  {
   "cell_type": "markdown",
   "metadata": {},
   "source": [
    "(We've used some new syntax here in the print statements, known as `f-strings`. Don't worry about this for now, it does what you think it does!)\n",
    "\n",
    "Let's look at the data types of `quotient` and `remainder`..."
   ]
  },
  {
   "cell_type": "code",
   "execution_count": null,
   "metadata": {},
   "outputs": [],
   "source": [
    "type(quotient)"
   ]
  },
  {
   "cell_type": "code",
   "execution_count": null,
   "metadata": {},
   "outputs": [],
   "source": [
    "type(remainder)"
   ]
  },
  {
   "cell_type": "markdown",
   "metadata": {},
   "source": [
    "Now copy+paste your definition of `collatz` below and modify it so that it returns an int (you can assume your function will always be called with an int argument)."
   ]
  },
  {
   "cell_type": "code",
   "execution_count": null,
   "metadata": {},
   "outputs": [],
   "source": [
    "# Your revised collatz function definition here:"
   ]
  },
  {
   "cell_type": "markdown",
   "metadata": {},
   "source": [
    "### Hailstone sequences"
   ]
  },
  {
   "cell_type": "markdown",
   "metadata": {},
   "source": [
    "The Collatz function doesn't seem remarkable. But let's try iterating it. \n",
    "\n",
    "Write code that given an initial integer, applies the collatz function over and over, printing out the result each time.\n",
    "\n",
    "Remember you can interrupt python with `Kernel->Interrupt` from the Jupyter menus, or by pressing the 'i' twice.\n",
    "\n",
    "For now, your code doesn't need to be a function.\n",
    "\n",
    "Try your code on several initial values. \n",
    "\n",
    "Do you notice any patterns?"
   ]
  },
  {
   "cell_type": "code",
   "execution_count": null,
   "metadata": {},
   "outputs": [],
   "source": [
    "# Your code here"
   ]
  },
  {
   "cell_type": "markdown",
   "metadata": {},
   "source": [
    "### Collatz's conjecture\n",
    "\n",
    "In 1937, mathematician Lothar Collatz conjetured that this iterated sequence always reaches 1 eventually. \n",
    "\n",
    "No one has been able to prove this, despite a lot of mathematicians trying!"
   ]
  },
  {
   "cell_type": "markdown",
   "metadata": {},
   "source": [
    "Copy+paste your loop below. Modify your code so that it stops when the sequence reaches 1. \n",
    "\n",
    "Also change your print statement so that it writes the numbers onto one long line (Jupyter will wrap the line for you). To do this, pass the keyword parameter `end=''` to print, i.e. `print(something, end='')`."
   ]
  },
  {
   "cell_type": "code",
   "execution_count": null,
   "metadata": {},
   "outputs": [],
   "source": [
    "# Your code here"
   ]
  },
  {
   "cell_type": "markdown",
   "metadata": {},
   "source": [
    "Try your code for some small and large starting values.\n",
    "\n",
    "Some quite small starting values make long sequences. Try 27.\n",
    "\n",
    "Some large numbers will have very short sequences. Can you think of an example?"
   ]
  },
  {
   "cell_type": "markdown",
   "metadata": {},
   "source": [
    "## Stopping times\n",
    "We'll follow the mathematicians and call the starting value the 'seed', and the length of the sequence until it reaches one we'll call the 'stopping time'.\n",
    "\n",
    "While you can probably think of examples of seeds with short stopping times, we have to search for seeds with long stopping times. \n",
    "\n",
    "Let's do it."
   ]
  },
  {
   "cell_type": "markdown",
   "metadata": {},
   "source": [
    "---\n",
    "### **Question 2**: Finding a stopping time\n",
    "Write a function `stoptime` that given a seed, calculates a Collatz sequence, and returns the stopping time (the number of steps until one). \n",
    "\n",
    "Your function should use the `collatz` function you already wrote.\n",
    "\n",
    "Your function shouldn't print anything out.\n",
    "\n",
    "Test it.\n",
    "\n",
    "Then use your function and a for loop to print out a table of the first 20 stopping times."
   ]
  },
  {
   "cell_type": "code",
   "execution_count": null,
   "metadata": {},
   "outputs": [],
   "source": [
    "# Your stoptime function definition here"
   ]
  },
  {
   "cell_type": "code",
   "execution_count": null,
   "metadata": {},
   "outputs": [],
   "source": [
    "# Add cells for your tests, and for your table-generating code."
   ]
  },
  {
   "cell_type": "markdown",
   "metadata": {},
   "source": [
    "---"
   ]
  },
  {
   "cell_type": "markdown",
   "metadata": {},
   "source": [
    "## Using lists"
   ]
  },
  {
   "cell_type": "markdown",
   "metadata": {},
   "source": [
    "That code found the length of the sequence (the stopping time).\n",
    "\n",
    "What if we wanted instead to find the highest value reached instead?\n",
    "\n",
    "We could change the code and rerun it.\n",
    "\n",
    "What if we wanted to plot the sequence?\n",
    "\n",
    "Really, what we want is the sequence as a list. Then we can find its length, maximum, plot it or do anything else we can do with a list."
   ]
  },
  {
   "cell_type": "markdown",
   "metadata": {},
   "source": [
    "---\n",
    "### **Question 3**: Hailstone function\n",
    "The sequences of numbers produced by iterating the Collatz function have been called *hailstone numbers*, because they move up and down like hailstones inside a cloud.\n",
    "\n",
    "Write a function `hailstone` which given a seed, returns a *list* of the full sequence from the seed until it reaches one.\n",
    "\n",
    "**Hint**: \n",
    "* To append `final` to a list `mylist`, use `mylist.append(final)`."
   ]
  },
  {
   "cell_type": "code",
   "execution_count": null,
   "metadata": {},
   "outputs": [],
   "source": [
    "# Your definition of hailstone function here:"
   ]
  },
  {
   "cell_type": "markdown",
   "metadata": {},
   "source": [
    "---"
   ]
  },
  {
   "cell_type": "markdown",
   "metadata": {},
   "source": [
    "### Working with lists\n",
    "At first we just printed out our sequences. \n",
    "This is fine for looking at the numbers, but we can't do any more than that with them.\n",
    "Now that we have a sequence as a list, we can compute with them, for example:"
   ]
  },
  {
   "cell_type": "code",
   "execution_count": null,
   "metadata": {},
   "outputs": [],
   "source": [
    "longseq = hailstone(6171)"
   ]
  },
  {
   "cell_type": "code",
   "execution_count": null,
   "metadata": {},
   "outputs": [],
   "source": [
    "len(longseq)"
   ]
  },
  {
   "cell_type": "code",
   "execution_count": null,
   "metadata": {},
   "outputs": [],
   "source": [
    "max(longseq)"
   ]
  },
  {
   "cell_type": "markdown",
   "metadata": {},
   "source": [
    "## Plotting hailstones"
   ]
  },
  {
   "cell_type": "markdown",
   "metadata": {},
   "source": [
    "Once we have the sequence as a list, we can plot it.\n",
    "\n",
    "Plotting data will be covered in detail in the second half of the SCI1022 Python sub-unit.\n",
    "\n",
    "Plotting is not 'built-in' with python, but is easily imported. Evaluate the following cells to visualise a short and a long hailstone sequence."
   ]
  },
  {
   "cell_type": "code",
   "execution_count": null,
   "metadata": {},
   "outputs": [],
   "source": [
    "import matplotlib.pyplot as plt\n",
    "%matplotlib inline\n",
    "plt.rcParams['figure.dpi'] = 100\n",
    "plt.rcParams['figure.figsize'] = [10, 6]"
   ]
  },
  {
   "cell_type": "code",
   "execution_count": null,
   "metadata": {},
   "outputs": [],
   "source": [
    "shortseq = hailstone(22)\n",
    "plt.plot(shortseq)"
   ]
  },
  {
   "cell_type": "code",
   "execution_count": null,
   "metadata": {},
   "outputs": [],
   "source": [
    "longseq = hailstone(6171)\n",
    "plt.plot(longseq)"
   ]
  },
  {
   "cell_type": "code",
   "execution_count": null,
   "metadata": {},
   "outputs": [],
   "source": [
    "plt.plot(longseq)\n",
    "plt.yscale('log')"
   ]
  },
  {
   "cell_type": "markdown",
   "metadata": {},
   "source": [
    "---\n",
    "### **Question 4**: Plotting stopping times\n",
    "Individual hailstone sequences look fairly random.\n",
    "\n",
    "But there are patterns in the stopping times.\n",
    "\n",
    "Use your functions to create a list `times` of all stopping times for seeds from 1 to 10,000. \n",
    "\n",
    "Then plot this list. Use `plt.plot(times, '.')` to get a scatterplot, rather than lines-between-points.\n",
    "\n",
    "There is much more pattern and mystery in this plot!\n",
    "\n",
    "*Hint:* The empty list is `[]`."
   ]
  },
  {
   "cell_type": "code",
   "execution_count": null,
   "metadata": {},
   "outputs": [],
   "source": [
    "# Your code to evaluate and plot stopping times here"
   ]
  },
  {
   "cell_type": "markdown",
   "metadata": {},
   "source": [
    "---\n",
    "That's the end of our exploration of the Collatz conjecture.\n",
    "\n",
    "Hopefully you've seen that writing short functions, and using them together, enables you to solve increasingly complex problems - without getting bogged down in the complexity.\n",
    "\n",
    "And lists are critically important for storing, analysing and displaying data! We'll see much more about lists, and other data types that are closely related to lists.\n",
    "\n",
    "---\n"
   ]
  },
  {
   "cell_type": "markdown",
   "metadata": {},
   "source": [
    "#  Extensions to Workshop 2"
   ]
  },
  {
   "cell_type": "markdown",
   "metadata": {},
   "source": [
    "### Defensive programming: checking argument types\n",
    "\n",
    "Our code is not robust.\n",
    "\n",
    "It doesn't make sense to call `collatz` on a float, because non-integers are neither odd nor even. But `collatz` doesn't object:"
   ]
  },
  {
   "cell_type": "code",
   "execution_count": 151,
   "metadata": {},
   "outputs": [
    {
     "data": {
      "text/plain": [
       "5.5"
      ]
     },
     "execution_count": 151,
     "metadata": {},
     "output_type": "execute_result"
    }
   ],
   "source": [
    "collatz(1.5)"
   ]
  },
  {
   "cell_type": "markdown",
   "metadata": {},
   "source": [
    "That's because it's not a Python error to call this function on real numbers. It's a \"semantic error\" -- an error the *meaning* of your code.\n",
    "\n",
    "It might seem odd to make 'working' code give errors, but it is an important part of defensive programming. \n",
    "\n",
    "The `assert` statement provides a way of \"asserting\" something that *you* know should be true at that point in your code. It's an error if false.\n",
    "\n",
    "The form is:\n",
    "`assert expression, \"Error message to be given if false\"`\n",
    "\n",
    "The expression `type(x) is int` is `True` when `x` is an int.\n",
    "\n",
    "Modify your `collatz` function so that it gives an error if passed an non-integer. Test it."
   ]
  },
  {
   "cell_type": "code",
   "execution_count": null,
   "metadata": {},
   "outputs": [],
   "source": [
    "# Your robust collatz function here.\n",
    "# Add cells for tests"
   ]
  },
  {
   "cell_type": "markdown",
   "metadata": {},
   "source": [
    "### Recursion\n",
    "\n",
    "Recursion is having a function call itself. It is extremely useful in solving a wide range of progamming tasks. \n",
    "\n",
    "We didn't use recursion in this workshop, but we could have done.\n",
    "\n",
    "Try writing a `hailstone` function that prints out a hailstone sequence, without using any loop constructs (no `for` or `while`). Don't use your existing `collatz` function.\n",
    "\n",
    "Then (harder) write another function which returns the hailstone sequence as a list (as you did in Q3), but without using loops."
   ]
  },
  {
   "cell_type": "code",
   "execution_count": null,
   "metadata": {},
   "outputs": [],
   "source": [
    "# Recursive function to print hailstone sequences:"
   ]
  },
  {
   "cell_type": "code",
   "execution_count": null,
   "metadata": {},
   "outputs": [],
   "source": [
    "# Recursive function that ultimately returns\n",
    "# hailstone sequence as a list:"
   ]
  },
  {
   "cell_type": "markdown",
   "metadata": {},
   "source": [
    "# Learning outcomes\n",
    "\n",
    "In this workshop you built a basic mathematical function `collatz`, and iterated it. Then you built functions that called `collatz`, ultimately collecting the output into a list for further processing and plotting.\n",
    "\n",
    "These are most, if not all, the ingredients of processing data with code. \n",
    "\n",
    "The Collatz conjecture remains unsolved and is considered by mathematicians to be unlikely to be solved any time soon. \n",
    "\n",
    "The coding skills you have learnt include:\n",
    "* Conditionally-defined mathematical functions\n",
    "* Modular arithmetic (quotient and remainder operators)\n",
    "* Awareness of implicit type conversions during calculations\n",
    "* Iteration of function calls with stopping condition\n",
    "* Iteration over a fixed range\n",
    "* Initialising lists, including the empty list\n",
    "* Creating lists by appending items\n",
    "* Operations on lists such as len() and max()\n",
    "* Plotting list data, as lines or points\n",
    "\n",
    "And in the extension:\n",
    "* Assertions\n",
    "* Recursion instead of iteration\n",
    "* Recursive construction of lists"
   ]
  }
 ],
 "metadata": {
  "kernelspec": {
   "display_name": "Python 3",
   "language": "python",
   "name": "python3"
  },
  "language_info": {
   "codemirror_mode": {
    "name": "ipython",
    "version": 3
   },
   "file_extension": ".py",
   "mimetype": "text/x-python",
   "name": "python",
   "nbconvert_exporter": "python",
   "pygments_lexer": "ipython3",
   "version": "3.8.2"
  }
 },
 "nbformat": 4,
 "nbformat_minor": 4
}
