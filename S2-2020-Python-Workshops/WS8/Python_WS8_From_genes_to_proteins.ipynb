{
 "cells": [
  {
   "cell_type": "markdown",
   "metadata": {},
   "source": [
    "# SCI1022 Python workshop 8: From genes to proteins\n",
    "\n",
    "\n",
    "Welcome to the 8th workshop of the Python stream! \n",
    "\n",
    "Some miscellaneous instructions to begin with:\n",
    "\n",
    "* Use your two hours in this workshop to work through this Jupyter notebook. \n",
    "\n",
    "* Read the instructions as you go. Execute the example code cells provided, and look carefully at the output. \n",
    "\n",
    "* Recall that, in order to execute a code cell, then you can left-click on it (either on the interior or the left-hand-side margin of the cell), and then hit `Shift-Enter`, which stands for: \"While holding pressed the `Shift` keyboard key, press the keyboard key labelled as `Enter`\". \n",
    "\n",
    "* If you struggle trying to use the Jupyter notebook, then explore usage instructions and links available at the SCI1022 Python's Moodle page. \n",
    "\n",
    "* <span style=\"color:red\">**Tasks**</span> are marked in <span style=\"color:red\">**red**</span> and displayed in indented blocks. The tasks are solved by writing code on the blank code cells provided.\n",
    "\n",
    "* Ask your instructors for help at any time.\n",
    "\n",
    "---\n"
   ]
  },
  {
   "cell_type": "markdown",
   "metadata": {},
   "source": [
    "This week we will have the last instance in our series of workshops on [*bioinformatics*](https://en.wikipedia.org/wiki/Bioinformatics). Recall that bioinformatics is an interdisciplinary discipline that addresses the  development of computational methods to search for, analyze, explore, and use information about genes, nucleid acids (such as, e.g., the [DNA](https://en.wikipedia.org/wiki/DNA)), and proteins."
   ]
  },
  {
   "cell_type": "markdown",
   "metadata": {},
   "source": [
    "# The basics of reading and writing pure text files in Python\n",
    "\n",
    "Recall that with the `input(...)` Python built-in function one can get input data to the program by prompting the user to type the data (e.g., a number or text) on the keyboard. Alternatively, input data can be hard-coded and stored into variables, like we did, for example, in order to store the 1D/2D motion simulator parameters (e.g., initial velocity magnitude, simulation time, angle with respect to the horizontal, etc.). **Both approaches are only bearable if one manages small amounts of data.** Besides, the second approach (i.e., data hard-coded into variables) requires to modify the program itself when a new set of input data is to be explored, and thus represents a potential danger of introducing new errors by accident.\n",
    "\n",
    "In general, it is considered a good practice that the data a program manipulates is input once the program is running. Besides, with the only exception that one handles very small amounts of data, which is rarely the case in scientific applications, data **must be read from files**. Anyone with some computer experience is used to save and load data files in programs. \n",
    "\n",
    "A file is nothing but a sequence of characters (a.k.a. as bytes) stored in disk (e.g., hard disk, USB pen drive, etc.). The most simple kind of files, and the one we restrict ourselves to in this unit are **pure text files**. A plain text file supports standard ASCII characters, including numbers, letters of the alphabet, spaces, punctuation signs, and a set of control characters, like the newline character (symbolically known as *backslash n*: `\\n`) or the tab character (symbolically known as *backslash t*: `\\t`). Python source code files are also pure text files. Pure text files can be read by humans directly.\n",
    "\n",
    "Apart from pure text files, there are a number of different kind of files, such as Word Processing files, Image files, Music files, PDF files, etc. While this sort of files can certainly be also read and process from a Python program, this is a hard task, out of the scope of the unit.  The data layout within this sort of files follow strict and complex rules, known as the file format rules, and they contain information that cannot be understood by humans (e.g., the result of applying a compression algorithm to an image or digitized sound signal), so that a computer program is required to interpret the file content and display it in a form that a human can understand. \n",
    "\n",
    "## Reading data from (pure text) files\n",
    "\n",
    "The basic recipes for reading pure text files in Python are pretty straightforward and best illustrated through examples. In this section, we are going to work with a file called `bom_mel_olympic_park_monthly_mean_max_temp.txt`, which you should download along with this Jupyter notebook, both in the same folder.  The file contains true temperature data registered by the [Bureau of Meteorology](http://www.bom.gov.au/climate/data/) using the climate station located at Melbourne's Olympic park.  \n",
    "\n",
    "Before writing **any** program that reads a file, **we must know the file format**, i.e., how the contents of the file are internally organized. The structure of the text in the file greatly influences the set of Python statements that the need to write in order to appropriately read the file. The first 5 lines of the the file at hand are as follows (at this point, in order to view the full contents of the file, you can open this file using a text editor such as, e.g., Notepad in Windows, or TextEdit in MacOsX):\n",
    "\n",
    "```\n",
    "BoM station number\tYear\tMonth\tMean maximum temperature (°C)\n",
    "086338\t2013\t06\t14.9\n",
    "086338\t2013\t07\t15.7\n",
    "086338\t2013\t08\t16.3\n",
    "086338\t2013\t09\t19.5\n",
    "...\n",
    "```\n",
    "\n",
    "The file presents a tabular structure with 4 columns. The first line in the file is just a comment line with a human-readable description of the data in each of the 4 columns. The actual data starts from the second line on. \n",
    "The 4th column, i.e., the one labeled as `Mean maximum temperature (°C)`, stores, in Celsius degrees, the monthly average of all daily maximum temperatures for the year and month combination given in the 2nd and 3rd columns, resp. \n",
    "\n",
    "To read a file, we first need to open the file. This action creates a file object, here stored in the variable `fin`:"
   ]
  },
  {
   "cell_type": "code",
   "execution_count": null,
   "metadata": {},
   "outputs": [],
   "source": [
    "fin = open(\"bom_mel_olympic_park_monthly_mean_max_temp.txt\",\"r\")\n",
    "print(type(fin))"
   ]
  },
  {
   "cell_type": "markdown",
   "metadata": {},
   "source": [
    "The second argument to the `open` function, the string `\"r\"`, tells that we want to open the file for reading. `fin` is a common name for a file object used for input. The file object provides several methods for reading, including `readline`, which reads characters from the file until it gets to a newline and returns the result as a string:"
   ]
  },
  {
   "cell_type": "code",
   "execution_count": null,
   "metadata": {},
   "outputs": [],
   "source": [
    "line=fin.readline()\n",
    "line"
   ]
  },
  {
   "cell_type": "markdown",
   "metadata": {},
   "source": [
    "As expected, the string `line` stores the characters in the first line of the file. The sequence `\\t` denotes the Tab character, and the sequence `\\n`, the newline character that separates the first line from from next. That is something to take account when writing code to read files, i.e., **the string returned from `readline()` contains a newline character at the end.** \n",
    "\n",
    "The file object keeps track of where it is in the file, so if you call `readline()` again, you get the next line:"
   ]
  },
  {
   "cell_type": "code",
   "execution_count": null,
   "metadata": {},
   "outputs": [],
   "source": [
    "line=fin.readline()\n",
    "line"
   ]
  },
  {
   "cell_type": "markdown",
   "metadata": {},
   "source": [
    "If required, we can get rid of the trailing newline character with the string method `strip()`:"
   ]
  },
  {
   "cell_type": "code",
   "execution_count": null,
   "metadata": {},
   "outputs": [],
   "source": [
    "line_without_newline=line.strip()\n",
    "line_without_newline"
   ]
  },
  {
   "cell_type": "markdown",
   "metadata": {},
   "source": [
    "File objects can also be used as part of a `for` loop. The following snippet prints on screen the remaining lines of `bom_mel_olympic_park_monthly_mean_max_temp.txt`:"
   ]
  },
  {
   "cell_type": "code",
   "execution_count": null,
   "metadata": {},
   "outputs": [],
   "source": [
    "for line in fin:\n",
    "    print(line)"
   ]
  },
  {
   "cell_type": "markdown",
   "metadata": {},
   "source": [
    "After the file is read, one should close the file object: "
   ]
  },
  {
   "cell_type": "code",
   "execution_count": null,
   "metadata": {},
   "outputs": [],
   "source": [
    "fin.close()"
   ]
  },
  {
   "cell_type": "markdown",
   "metadata": {},
   "source": [
    "If you do not close the file, it gets closed for you when the program ends. Anyway, it is a good programming practice the close the files as soon as your program does not longer needs them.\n",
    "\n",
    "To end with this section, let us write code that computes the yearly average of all 12 monthly averages for year `2019`. This is shown in the next code cell:\n"
   ]
  },
  {
   "cell_type": "code",
   "execution_count": null,
   "metadata": {},
   "outputs": [],
   "source": [
    "fin = open(\"bom_mel_olympic_park_monthly_mean_max_temp.txt\",\"r\")\n",
    "fin.readline() # skip first line \n",
    "sum=0.0\n",
    "for line in fin:\n",
    "    columns=line.split()\n",
    "    # columns[1]: year, columns[2]: month, columns[3]: temperature \n",
    "    if columns[1]==\"2019\":\n",
    "        sum += float(columns[3])\n",
    "avg = sum/12.0\n",
    "fin.close()\n",
    "print(f\"The yearly average of all monthly averages for year 2019 is {avg:.2f} °C\")"
   ]
  },
  {
   "cell_type": "markdown",
   "metadata": {},
   "source": [
    "A very useful method of type `str` is `split`. `line.split()` splits the `line` string into a list of words (i.e., strings). By default, `split()` identifies a sequence of blanks/tab characters as word separator. The \"words\" in this file are actually numbers, so that we can use the `float(...)` function in order to operate with them.  "
   ]
  },
  {
   "cell_type": "markdown",
   "metadata": {},
   "source": [
    "## Writing data to (pure text) files \n",
    "\n",
    "Writing data to a data file is easy. There is basically one method to pay attention to: `fout.write(s)`, \n",
    "which writes a string `s` to a file handled by the file object `fout`. Unlike `print`, `fout.write(s)` does not append a newline character to the written string. It will therefore often be necessary to add a newline character,\n",
    "\n",
    "```Python\n",
    "num_bytes_written=fout.write(s + \"\\n\")\n",
    "```\n",
    "\n",
    "if the string `s` is meant to appear on a single line in the file and `s` does not already contain a trailing newline character. The return value of this method is the number of characters written to file. **File writing is then a matter of constructing strings containing the text we want to have in the file and for each such string call `fout.write(...)`.**\n",
    "\n",
    "Writing to a file demands the file object  to be opened for writing. This is achieved as follows\n",
    "\n",
    "```Python\n",
    "fout=open(filename, \"w\")\n",
    "```\n",
    "\n",
    "A warning note on opening files for writing. **If the file already exists, opening it in write mode clears out the old data and starts fresh, so you may loose data if not used carefully**. If the file does not exist, a new one is created.\n",
    "\n",
    "\n",
    "## Files, folders, and paths. The `os` Python built-in module\n",
    "\n",
    "Files are organized into directories (also called “folders”). Every running program has a “current directory”, which is the default directory for most operations. For example, when you open a file for reading, Python looks for it in the current directory.\n",
    "\n",
    "The `os` module provides functions for working with files and directories (“os” stands for\n",
    "“operating system”). a **portable** way, i.e., in a way that is independent on the operating system on which the Python program is running. `os.getcwd()` returns the so-called \"path\" of the current directory:"
   ]
  },
  {
   "cell_type": "code",
   "execution_count": null,
   "metadata": {},
   "outputs": [],
   "source": [
    "import os\n",
    "cwd = os.getcwd()\n",
    "cwd"
   ]
  },
  {
   "cell_type": "markdown",
   "metadata": {},
   "source": [
    "`cwd` stands for “current working directory”. A string like the one returned by `getcwd()` that identifies a file or directory is called a **path**. A simple filename, like `bom_mel_olympic_park_monthly_mean_max_temp.txt` is also considered a path, but it is a **relative path** because it relates to the current directory. \n",
    "A path that begins with `/` does not depend on the current directory; it is called an **absolute\n",
    "path**. To find the absolute path to a file, you can use `os.path.abspath`:"
   ]
  },
  {
   "cell_type": "code",
   "execution_count": null,
   "metadata": {},
   "outputs": [],
   "source": [
    "os.path.abspath(\"bom_mel_olympic_park_monthly_mean_max_temp.txt\")"
   ]
  },
  {
   "cell_type": "markdown",
   "metadata": {},
   "source": [
    "`os.path` provides other functions for working with filenames and paths. \n",
    " For example, `os.path.exists` checks whether a file or directory exists:"
   ]
  },
  {
   "cell_type": "code",
   "execution_count": null,
   "metadata": {},
   "outputs": [],
   "source": [
    "os.path.exists(\"bom_mel_olympic_park_monthly_mean_max_temp.txt\")"
   ]
  },
  {
   "cell_type": "markdown",
   "metadata": {},
   "source": [
    "If it exists, `os.path.isdir` checks whether it’s a directory:"
   ]
  },
  {
   "cell_type": "code",
   "execution_count": null,
   "metadata": {},
   "outputs": [],
   "source": [
    "os.path.isdir('bom_mel_olympic_park_monthly_mean_max_temp.txt')"
   ]
  },
  {
   "cell_type": "code",
   "execution_count": null,
   "metadata": {},
   "outputs": [],
   "source": [
    "os.path.isdir(cwd)"
   ]
  },
  {
   "cell_type": "markdown",
   "metadata": {},
   "source": [
    "Similarly, `os.path.isfile` checks whether it’s a file."
   ]
  },
  {
   "cell_type": "markdown",
   "metadata": {},
   "source": [
    "`os.listdir` returns a list of the files (and other directories) in the given directory:"
   ]
  },
  {
   "cell_type": "code",
   "execution_count": null,
   "metadata": {},
   "outputs": [],
   "source": [
    "os.listdir(cwd)"
   ]
  },
  {
   "cell_type": "markdown",
   "metadata": {},
   "source": [
    "To demonstrate these functions, the following example “walks” through a directory, prints\n",
    "the names of all the files, and calls itself recursively on all the directories."
   ]
  },
  {
   "cell_type": "code",
   "execution_count": null,
   "metadata": {},
   "outputs": [],
   "source": [
    "def walk(dirname):\n",
    "  for name in os.listdir(dirname):\n",
    "     path = os.path.join(dirname, name)\n",
    "     if os.path.isfile(path):\n",
    "       print(path)\n",
    "     else:\n",
    "       walk(path) "
   ]
  },
  {
   "cell_type": "code",
   "execution_count": null,
   "metadata": {},
   "outputs": [],
   "source": [
    "walk(cwd)"
   ]
  },
  {
   "cell_type": "markdown",
   "metadata": {},
   "source": [
    "`os.path.join` takes a directory and a file name and joins them into a complete path."
   ]
  },
  {
   "cell_type": "markdown",
   "metadata": {},
   "source": [
    "# Genes, mRNA, amino acids, and proteins\n",
    "\n",
    "The sequence of nucleotides (a.k.a. bases) encoded within the DNA holds the essential information required to make functional molecules called **proteins**. To this end, **genes** play a crucial role. A gene is, in a nutshell, a subsequence of the full DNA sequence which is in turn composed of coding parts, called exons, intermixed with non-coding parts, called introns. The full set of exons are strung together (i.e., concatenated) forming a new molecule, the [messenger RNA](https://en.wikipedia.org/wiki/Messenger_RNA) (a.k.a. **mRNA** for short), where occurrences of the T (Thymine) nucleotide in the gene are substituted by the U ([Uracil](https://en.wikipedia.org/wiki/Uracil)) nucleotide in the mRNA.\n",
    "\n",
    "Proteins are made of **amino acids**. The mRNA encodes which amino acids are required to build a particular protein. In particular, every three consecutive letters of the mRNA sequence (i.e., every triplet) encodes a new amino acid to be assembled towards the formation of a new protein. For example, the AGU and GAA triplets encode the so-called Serine and the Glumatic acid amino acids, respectively.   \n",
    "\n",
    "\n",
    "# Mapping mRNA triplets into amino acids\n",
    "\n",
    "This Jupyter notebook is supplemented with a folder named `input_data_files`, which you also have to download from the SCI1022 Moodle page. This folder should be placed in the same folder where you downloaded the Jupyter notebook in order to let the Python code below work without modifications. As the name of the folder suggests, it contains several input data files that we will process during the workshop. \n",
    "\n",
    "In this particular section, we will work with the data file named `mrna_to_amino_acids_mapping.tsv`. The extension of the file, i.e., `.tsv`, stands for [\"Tab-Separated Values\" (TSV)](https://en.wikipedia.org/wiki/Tab-separated_values). This term refers to the format in which the data is organized within the file. A TSV file is a simple text format for storing data with a tabular structure, i.e., organized in a table. Each row in the table corresponds to one line of the text file. Each field value of a row is separated from the next by a Tab character (i.e., the character which is introduced using the [Tab](https://en.wikipedia.org/wiki/Tab_key) keyboard key).\n",
    "\n",
    "The first 5 lines (i.e., rows of the table) of `mrna_to_amino_acids_mapping.tsv` look like:\n",
    "\n",
    "```\n",
    "UUU\tF\tPhe\tPhenylalanine\n",
    "UUC\tF\tPhe\tPhenylalanine\n",
    "UUA\tL\tLeu\tLeucine\n",
    "UUG\tL\tLeu\tLeucine\n",
    "CUU\tL\tLeu\tLeucine\n",
    "...\n",
    "```\n",
    "\n",
    "There are thus 4 columns. The first column stores the mRNA triplet, while the other 3 columns represent various ways of expressing the corresponding amino acid: a 1-letter symbol, a 3-letter name, and the full name, respectively. Thus, for example, the `UUU` mRNA triplet encodes the Phenylalalnine amino acid, expressed as \"Phe\" and \"F\" with a 3-letter name and 1-letter symbol, respectively.\n",
    "\n",
    "\n",
    "><span style=\"color:red\">**Task 1.**</span> \n",
    "Write a function `read_mrna_to_amino_acids_mapping_v1(filepath)`, which given the path of the file `mrna_to_amino_acids_mapping.tsv` in the `filepath` parameter, returns a dictionary that maps mRNA triplet (first column of the table) to the 1-letter name of the amino acid (second column of the table). Some hints and considerations to be taken:\n",
    "* You can  assume the `filepath` parameter to be of type `str`.\n",
    "* You **cannot** use a dictionary comprehension to solve this task. Instead, you should use a `for` loop that steps through the lines of the `mrna_to_amino_acids_mapping.tsv` file."
   ]
  },
  {
   "cell_type": "code",
   "execution_count": null,
   "metadata": {
    "scrolled": true
   },
   "outputs": [],
   "source": [
    "# Code to solve Task 1 goes here"
   ]
  },
  {
   "cell_type": "code",
   "execution_count": null,
   "metadata": {},
   "outputs": [],
   "source": [
    "# Code to test Task 1 goes here\n",
    "import os\n",
    "mrna_to_amino_map_filepath=os.path.join(\"input_data_files\",\"mrna_to_amino_acids_mapping.tsv\")\n",
    "mrna_to_amino_map=read_mrna_to_amino_acids_mapping_v1(mrna_to_amino_map_filepath)\n",
    "print(f\"UUU correct?: {mrna_to_amino_map['UUU']=='F'}\")\n",
    "print(f\"UGA correct?: {mrna_to_amino_map['UGA']=='X'}\")"
   ]
  },
  {
   "cell_type": "markdown",
   "metadata": {},
   "source": [
    "><span style=\"color:red\">**Task 2.**</span> \n",
    "Write a function `read_mrna_to_amino_acids_mapping_v2(filepath)` with the same semantics as the one in Task 1. However, in this task, **the dictionary must be built using a dictionary comprehension, and thus the body of the function must be composed of a single line.**"
   ]
  },
  {
   "cell_type": "code",
   "execution_count": null,
   "metadata": {},
   "outputs": [],
   "source": [
    "# Code to solve Task 2 goes here"
   ]
  },
  {
   "cell_type": "code",
   "execution_count": null,
   "metadata": {},
   "outputs": [],
   "source": [
    "# Code to test Task 2 goes here"
   ]
  },
  {
   "cell_type": "markdown",
   "metadata": {},
   "source": [
    "A mapping of each mRNA triplet onto all the three ways to denote the amino acid is also of interest. In particular, we are willing to make a dictionary that admits look ups like, e.g., `mrna_to_amino_map[\"UUU\"][\"1-letter\"]`, `mrna_to_amino_map[\"UUU\"][\"3-letter\"]`, and `mrna_to_amino_map[\"UUU\"][\"amino acid\"]`.\n",
    "\n",
    "><span style=\"color:red\">**Task 3.**</span> \n",
    "Write a function `read_mrna_to_amino_acids_mapping_v3(filepath)`, which given the path of the file `mrna_to_amino_acids_mapping.tsv` in the `filepath` parameter, returns a dictionary able to satisfy the look ups above. You are free to select the approach that you most prefer to build such a dictionary."
   ]
  },
  {
   "cell_type": "code",
   "execution_count": null,
   "metadata": {},
   "outputs": [],
   "source": [
    "# Code to solve Task 3 goes here"
   ]
  },
  {
   "cell_type": "code",
   "execution_count": null,
   "metadata": {},
   "outputs": [],
   "source": [
    "# Code to test Task 3 goes here"
   ]
  },
  {
   "cell_type": "markdown",
   "metadata": {},
   "source": [
    "# Generating the Lactase Protein (LPH) from the Lactase gene (LCT)"
   ]
  },
  {
   "cell_type": "markdown",
   "metadata": {},
   "source": [
    "In this section, we will work with an example of the process that leads to proteins from genes. In particular, we will study how the Lactase protein (LPH) is created using the DNA sequence of the Lactase gene (LCT). LPH is essential to the complete digestion of whole milk; it breaks down lactose, a sugar which gives milk its sweetness.\n",
    "\n",
    "In order to form the mRNA, we need to know the exons, i.e., the coding parts of the Lactase gene. The Lactase gene is nothing but a DNA sequence, and thus can be represented as a string in the computer. An exon is a substring (subsequence) of nucleotides in the gene which is identified by a start and an end position in the whole sequence. Once we have the start and end position of all exons, we have to replace T by U, and combine all substrings to build the mRNA string.\n",
    "\n",
    "The file named `lactase_exons.tsv`, located at the `input_data_folder` folder, contains the start and end position of all exons of the Lactase gene, with one exon per line, in TSV format. Our goal now is to read that file into a list of `(start,end)` pairs (i.e., tuples of two elements each), with `start` being the number in the first column of the file, and `end` the one in the second column.\n",
    "\n",
    "><span style=\"color:red\">**Task 4.**</span> \n",
    "Write a function `read_lactase_exons_v1(filepath)`, which given the path of the file `lactase_exons.tsv` in the `filepath` parameter, returns a list of `(start,end)` pairs. Some hints and considerations to be taken:\n",
    "* You **cannot** use a list comprehension to solve this task. Instead, you should use a `for` loop that steps through the lines of the `lactase_exons.tsv` file.\n",
    "* Recall that you can convert a value of type `str` into a value of type `int`, using the `int` function."
   ]
  },
  {
   "cell_type": "code",
   "execution_count": null,
   "metadata": {},
   "outputs": [],
   "source": [
    "# Code to solve Task 4 goes here"
   ]
  },
  {
   "cell_type": "code",
   "execution_count": null,
   "metadata": {},
   "outputs": [],
   "source": [
    "# Code to test Task 4 goes here\n",
    "import os\n",
    "lactase_exons=read_lactase_exons_v1(os.path.join(\"input_data_files\",\"lactase_exons.tsv\"))\n",
    "print(f\"lactase_exons[0]==(0,651)?: {lactase_exons[0]==(0,651)}\")\n",
    "print(f\"len(lactase_exons)==17?: {len(lactase_exons)==17}\")"
   ]
  },
  {
   "cell_type": "markdown",
   "metadata": {},
   "source": [
    "><span style=\"color:red\">**Task 5.**</span> \n",
    "Write a function `read_lactase_exons_v2(filepath)` with the same semantics as the one in Task 4. However, in this task, **the list to be returned must be built using a list comprehension, and thus the body of the function must be composed of a single line.**"
   ]
  },
  {
   "cell_type": "code",
   "execution_count": null,
   "metadata": {},
   "outputs": [],
   "source": [
    "# Code to solve Task 5 goes here"
   ]
  },
  {
   "cell_type": "code",
   "execution_count": null,
   "metadata": {},
   "outputs": [],
   "source": [
    "# Code to test Task 5 goes here"
   ]
  },
  {
   "cell_type": "markdown",
   "metadata": {},
   "source": [
    "Apart from the Lactase gene exons, we need the Lactase gene itself. The file named `lactase_gene.txt` contains the DNA sequence corresponding to the Lactase gene split over many lines, with each line being 70 characters (i.e., nucleotides) long. Our next goal is to process the file and store its contents into a single string.\n",
    "\n",
    "><span style=\"color:red\">**Task 6.**</span> \n",
    "Write a function `read_lactase_gene(filepath)` which given the path of the file `lactase_gene.txt` in the `filepath` parameter, returns a string with the Lactase gene. Recall that you can use the `+` operator in order to concatenate two strings."
   ]
  },
  {
   "cell_type": "code",
   "execution_count": null,
   "metadata": {},
   "outputs": [],
   "source": [
    "# Code to solve Task 6 goes here"
   ]
  },
  {
   "cell_type": "code",
   "execution_count": null,
   "metadata": {},
   "outputs": [],
   "source": [
    "# Code to test Task 6 goes here\n",
    "import os\n",
    "lactase_gene=read_lactase_gene(os.path.join(\"input_data_files\",\"lactase_gene.txt\"))\n",
    "print(f\"len(lactase_gene)=='C'?: {lactase_gene[-1]=='C'}\")\n",
    "print(f\"len(lactase_gene)==49336?: {len(lactase_gene)==49336}\")"
   ]
  },
  {
   "cell_type": "markdown",
   "metadata": {},
   "source": [
    "Now that we have the Lactase gene and its exons stored as a string and a list of `(start,end)` tuples, respectively, the next step is to generate the mRNA sequence stored as a string. In order to do so, we have to step through the Lactase gene exons, replace T by U, and concatenate all the resulting substrings together into the final string.\n",
    "\n",
    "><span style=\"color:red\">**Task 7.**</span> \n",
    "Write a function `generate_mrna(lactase_gene,lactase_exons)` that returns the mRNA string from the Lactase gene and its exons. Recall that you can use the `+` operator in order to concatenate two strings."
   ]
  },
  {
   "cell_type": "code",
   "execution_count": null,
   "metadata": {},
   "outputs": [],
   "source": [
    "# Code to solve Task 7 goes here"
   ]
  },
  {
   "cell_type": "code",
   "execution_count": null,
   "metadata": {},
   "outputs": [],
   "source": [
    "# Code to solve Task 7 goes here"
   ]
  },
  {
   "cell_type": "markdown",
   "metadata": {},
   "source": [
    "We would like now to develop a piece of software that stores the mRNA string in an output text file, following the same format as `lactase_gene.txt`, i.e., with the whole sequence split into several lines of fixed given width. \n",
    "\n",
    "><span style=\"color:red\">**Task 8.**</span> \n",
    "Write a function `write_text_to_output_file(text, output_folder_path, output_filename, line_width)` which stores the string given in the `text` parameter into an output file with name given in the `output_filename` parameter. The text must be split into lines of fixed line width `line_width`. The new file must be stored into a separate output folder, located at the path given in the `output_folder_path`. If the output folder does not exist, the function must create it first. **Hint**: You may consider helpful the `os.mkdir` function (Recall that you can ask for help calling `help(os.mkdir)` on a code cell.)"
   ]
  },
  {
   "cell_type": "code",
   "execution_count": null,
   "metadata": {},
   "outputs": [],
   "source": [
    "# Code to solve Task 8 goes here"
   ]
  },
  {
   "cell_type": "code",
   "execution_count": null,
   "metadata": {},
   "outputs": [],
   "source": [
    "# Code to test Task 8 goes here\n",
    "import os\n",
    "lactase_gene=read_lactase_gene(os.path.join(\"input_data_files\",\"lactase_gene.txt\"))\n",
    "lactase_exons=read_lactase_exons_v1(os.path.join(\"input_data_files\",\"lactase_exons.tsv\")) \n",
    "lactase_mrna=generate_mrna(lactase_gene,lactase_exons)\n",
    "write_text_to_output_file(lactase_mrna,\"output_data_files\",\"lactase_mrna.txt\",70)\n",
    "lactase_mrna_from_file=read_lactase_gene(os.path.join(\"output_data_files\",\"lactase_mrna.txt\"))\n",
    "print(f\"Correct?: {lactase_mrna_from_file==lactase_mrna}\")"
   ]
  },
  {
   "cell_type": "markdown",
   "metadata": {},
   "source": [
    "The final step is to generate the protein, i.e., the amino acids sequence, from (1) the mRNA string; and (2) the mapping of mRNA triplets to amino acids computed in Task 1 or 2. **The translation always begins with the Methionine, triplet AUG, and ends when one of the stop triplets are found.** The stop triplets are coded in the mapping above with the 1-letter code `X`. \n",
    "\n",
    "><span style=\"color:red\">**Task 9.**</span> \n",
    "Write a function `generate_protein(mrna,mrna_to_amino_map)` which returns a string with the sequence of 1-letter codes of the amino acids in the Lactase Protein. **Hint**: You may consider helpful the `find()` method of type `str` to find the index of the first occurrence of `AUG` within the `mrna` string. (Recall that you can ask for help calling `help(str.find)` on a code cell.)"
   ]
  },
  {
   "cell_type": "code",
   "execution_count": null,
   "metadata": {},
   "outputs": [],
   "source": [
    "# Code to solve Task 9 goes here"
   ]
  },
  {
   "cell_type": "code",
   "execution_count": null,
   "metadata": {},
   "outputs": [],
   "source": [
    "# Code to test Task 9 goes here\n",
    "import os\n",
    "lactase_gene=read_lactase_gene(os.path.join(\"input_data_files\",\"lactase_gene.txt\"))\n",
    "lactase_exons=read_lactase_exons_v1(os.path.join(\"input_data_files\",\"lactase_exons.tsv\"))\n",
    "lactase_mrna=generate_mrna(lactase_gene,lactase_exons)\n",
    "mrna_to_amino_map_filepath=os.path.join(\"input_data_files\",\"mrna_to_amino_acids_mapping.tsv\")\n",
    "mrna_to_amino_map=read_mrna_to_amino_acids_mapping_v1(mrna_to_amino_map_filepath)\n",
    "lactase_protein=generate_protein(lactase_mrna,mrna_to_amino_map)\n",
    "print(f\"lactase_protein[-10:]==QQELSPVSSF?: {lactase_protein[-10:]=='QQELSPVSSF'}\")\n",
    "print(f\"len(lactase_protein)==1927?: {len(lactase_protein)==1927}\")"
   ]
  },
  {
   "cell_type": "markdown",
   "metadata": {},
   "source": [
    "# Lactose intolerance caused by congenital lactase deficiency\n",
    "\n",
    "One type of lactose intolerance is called **congenital lactase deficiency**. This is an extremely rare genetic disorder that causes lactose intolerance from birth (compared to the most common one which sets in during adulthood). This deficiency is caused by a mutation of the base in position 30049 (0-based) of the Lactase gene from T to A. What happens with the resulting protein if such base is mutated? The answer to this question can be answered using the tools so far. \n",
    "\n",
    "><span style=\"color:red\">**Task 10.**</span> \n",
    "Write a function `generate_mutated_protein(lactase_gene, lactase_exons, mrna_to_amino_map)` which returns a string with the sequence of 1-letter codes of the amino acids in the protein resulting from the congenital lactase deficiency. The function **MUST** call the functions developed in Tasks 7 and 9. "
   ]
  },
  {
   "cell_type": "code",
   "execution_count": null,
   "metadata": {},
   "outputs": [],
   "source": [
    "# Code to solve Task 10 goes here"
   ]
  },
  {
   "cell_type": "code",
   "execution_count": null,
   "metadata": {},
   "outputs": [],
   "source": [
    "# Code to test Task 10 goes here\n",
    "import os\n",
    "lactase_gene=read_lactase_gene(os.path.join(\"input_data_files\",\"lactase_gene.txt\"))\n",
    "lactase_exons=read_lactase_exons_v1(os.path.join(\"input_data_files\",\"lactase_exons.tsv\"))\n",
    "mrna_to_amino_map_filepath=os.path.join(\"input_data_files\",\"mrna_to_amino_acids_mapping.tsv\")\n",
    "mrna_to_amino_map=read_mrna_to_amino_acids_mapping_v1(mrna_to_amino_map_filepath)mutated_protein=generate_mutated_protein(lactase_gene,lactase_exons,mrna_to_amino_map)\n",
    "print(f\"mutated_protein[-10:]==GFIWSAASAA?: {mutated_protein[-10:]=='GFIWSAASAA'}\")\n",
    "print(f\"len(mutated_protein)==1389?: {lactase_protein==1389}\")"
   ]
  },
  {
   "cell_type": "markdown",
   "metadata": {},
   "source": [
    "As observed, the translation stops prematurely, creating a much smaller protein (1927 versus 1389 amino acids). It follows that the protein resulting from the mutation does not have the required characteristics of the lactase protein, thus causing lactose intolerance."
   ]
  },
  {
   "cell_type": "markdown",
   "metadata": {},
   "source": [
    "# Learning outcomes"
   ]
  },
  {
   "cell_type": "markdown",
   "metadata": {},
   "source": [
    "In this workshop, we have learned about the process that transforms genes into proteins. In order to illustrate this process, we focused on a particular gene, the Lactase Gene (LCT), which leads to the Lactase Protein (LPH). The coding parts of the LCT, known as exons, are used to generate the mRNA, than in turn codes, in triplets of nucleotides, the sequence of amino acids that have to be stuck together to generate the LPH. We also observed that a single mutation of the LCT gene, known as the congenital lactase deficiency, has a significant impact on the ability of humans to be able to digest milk from birth. Before the 20th century, babies born with congenital lactase deficiency often did not survive, but death rates decreased with soybean-derived infant formulas and manufactured lactose-free dairy products.\n",
    "\n",
    "From a programming point of view, we learned the very basics of pure text file handling in Python, i.e., reading and writing pure text files. File handling becomes a must when one manipulates large amounts of data, as it is often the case in scientific applications. Other input/output methods, like prompting the user of the program to input data from the keyboard, or printing on screen, are highly discouraged in this case. Before writing a program that reads a file, one must know **the file format**, how the data is organized within the file, as this has a direct impact on the way that one must write the program statements in order to appropriately read the file contents.  \n",
    "\n",
    "Finally, we also learned about the `os` built-in module, which provides very useful tools to deal with the file system in a **portable** way, i.e., in a way that is independent on the operating system on which the Python program is running. "
   ]
  }
 ],
 "metadata": {
  "kernelspec": {
   "display_name": "Python 3",
   "language": "python",
   "name": "python3"
  },
  "language_info": {
   "codemirror_mode": {
    "name": "ipython",
    "version": 3
   },
   "file_extension": ".py",
   "mimetype": "text/x-python",
   "name": "python",
   "nbconvert_exporter": "python",
   "pygments_lexer": "ipython3",
   "version": "3.7.6"
  }
 },
 "nbformat": 4,
 "nbformat_minor": 4
}
