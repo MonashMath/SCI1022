{
 "cells": [
  {
   "cell_type": "markdown",
   "metadata": {},
   "source": [
    "# SCI1022 Python workshop 1: Classifying vertebrates"
   ]
  },
  {
   "cell_type": "markdown",
   "metadata": {},
   "source": [
    "Welcome to the Python stream! \n",
    "\n",
    "Some miscellaneous instructions to begin with:\n",
    "\n",
    "* Use your two hours in this workshop to work through this Jupyter notebook. \n",
    "\n",
    "* Read the instructions as you go. Execute the example code cells, and look carefully at the output. \n",
    "\n",
    "* In order to execute a code cell, then you can left-click on it (either on the interior or the left-hand-side margin of the cell), and then hit `Shift-Enter`, which stands for: \"While holding pressed the `Shift` keyboard key, press the keyboard key labelled as `Enter`\". \n",
    "\n",
    "* If you struggle trying to use the Jupyter notebook, then explore usage instructions and links available at the SCI1022 Python's Moodle page. \n",
    "\n",
    "* <span style=\"color:red\">**Tasks**</span> are marked in <span style=\"color:red\">**red**</span> and displayed in indented blocks. The tasks are solved by writing code to perform a particular computation.\n",
    "\n",
    "* Ask your instructors for help at any time.\n",
    "\n",
    "---"
   ]
  },
  {
   "cell_type": "markdown",
   "metadata": {},
   "source": [
    "## Warm-up exercise: Introducing yourself to Python"
   ]
  },
  {
   "cell_type": "markdown",
   "metadata": {},
   "source": [
    "Read the code cell below. Before you execute it, predict what it does. \n",
    "\n",
    "Then execute the cell by clicking on the code and typing `Shift-Enter`. \n",
    "\n",
    "Respond to the prompts and see what happens. Was it what you predicted?"
   ]
  },
  {
   "cell_type": "code",
   "execution_count": null,
   "metadata": {},
   "outputs": [],
   "source": [
    "name  = input(\"What is your name?\")\n",
    "place = input(\"Where do you live?\")\n",
    "print(name + \" lives in \" + place)"
   ]
  },
  {
   "cell_type": "markdown",
   "metadata": {},
   "source": [
    "> <span style=\"color:red\">**Task 1.**</span> Now it's your turn. There is an empty code cell below. Copy and paste the code above into the cell below, and modify it to print:\n",
    ">\n",
    "> *Hey Python, I'd like you to meet Alberto. Alberto lives in Melbourne, and wants to meet other Melbourne people interested in Python.*\n",
    ">\n",
    "> ... except with the inputted name and place, of course. Or invent your own sentence along these lines."
   ]
  },
  {
   "cell_type": "code",
   "execution_count": null,
   "metadata": {},
   "outputs": [],
   "source": [
    "# Solution to Task 1 goes here"
   ]
  },
  {
   "cell_type": "markdown",
   "metadata": {},
   "source": [
    "## Classifying vertebrates: A first version of a yes/no classifier for vertebrates"
   ]
  },
  {
   "cell_type": "markdown",
   "metadata": {},
   "source": [
    "In the rest of this notebook you'll build up code that classifies vertebrates: animals with a backbone.\n",
    "\n",
    "Your goal is a short program which asks the user questions, such as \"Does your species lay eggs?\", and after it has asked enough questions, lets you know the taxonomic \"class\" of animal (mammal, bird, reptile, etc.).\n",
    "\n",
    "Don't worry, you don't need to remember (or have ever done) VCE Biology! All the biology you need is in the notebook."
   ]
  },
  {
   "cell_type": "markdown",
   "metadata": {},
   "source": [
    "Here are some characteristics of vertebrates: four attributes that can be used to distinguish the five classes. (Actually biologists will probably insist there are several classes of what most of us would call fish. We'll just call them fish.)\n",
    "\n",
    "Without writing any code, plan out a series of questions with yes/no answers, that will let you decide on the animal's class. \n",
    "\n",
    "Try your questions out on your workshop partner. They are probably a mammal. But ask them to pretend to be something else too."
   ]
  },
  {
   "cell_type": "markdown",
   "metadata": {},
   "source": [
    "|          | Mammals | Birds | Reptiles | Amphibians | Fish  | \n",
    "|----------|---------|-------|----------|------------|-------|\n",
    "| _Blood_    | Warm    | Warm  | Cold     | Cold       | Cold  |\n",
    "| _Birth_    | Land    | Land  | Land     | Water      | Water |\n",
    "| _Feathers_ | No      | Yes   | No       | No         | No    |\n",
    "| _Scales_   | No      | No    | Yes      | No         | Yes   |"
   ]
  },
  {
   "cell_type": "markdown",
   "metadata": {},
   "source": [
    "><span style=\"color:red\">**Task 2.**</span> Write code that implements a vertebrate classifier based on the table above, \n",
    "and the following instructions:\n",
    ">\n",
    "> 1. Your code should only ask questions which are either answered with 'y' or 'n' .\n",
    "> 2. It should output a single line such as `It is a bird.`,\n",
    "once it has asked enough questions to be sure it is, in fact, a bird.\n",
    "> 3. Implement the question plan you devised on paper. You will likely need to nest `if`-statements inside other `if`-statements. Remember to indent your code appropriately.\n",
    "> 4. Test your code for all cases."
   ]
  },
  {
   "cell_type": "code",
   "execution_count": null,
   "metadata": {},
   "outputs": [],
   "source": [
    "# Solution to Task 2 goes here"
   ]
  },
  {
   "cell_type": "markdown",
   "metadata": {},
   "source": [
    "## Improving your first vertebrate classifier\n",
    "\n",
    "\n",
    "### Refactoring\n",
    "\n",
    "In a nutshell, [**Refactoring**](https://en.wikipedia.org/wiki/Code_refactoring) is the process of rearranging the program in successive steps to facilitate **code re-use** and improve other qualities of the code, such as making it simpler, easier to read, more flexible, and compact, **without altering what the code actually does**.\n",
    "\n",
    "#### Refactoring #1: Single invocation to print\n",
    "\n",
    "Your solution probably has several statements which start with `print(\"It is a ...`. What if your boss asked you to make your code reply with `Your species is in the bird class.` instead? This is a wordier way of giving the answer, but there's no accounting for taste. \n",
    "\n",
    "><span style=\"color:red\">**Task 3.**</span> Paste the code so far into the cell below, and change it so that it ends with the line:\n",
    ">\n",
    ">```python\n",
    "> print(\"Your species is in the \" + cls + \" class.\")\n",
    "> ```\n",
    ">\n",
    ">\n",
    "> Then, change the rest of the code so that it functions the same as your solution above but only calls `print` once. Note that, in the previous code, you cannot use the word `class` for the variable name, as `class` is a Python **keyword**. A keyword is a reserved word that has a special meaning to Python and thus cannot be used as a variable name. Other examples of keywords are: `if`, `def`, and `while`."
   ]
  },
  {
   "cell_type": "code",
   "execution_count": null,
   "metadata": {
    "scrolled": true
   },
   "outputs": [],
   "source": [
    "# Solution to Task 3 goes here"
   ]
  },
  {
   "cell_type": "markdown",
   "metadata": {},
   "source": [
    "#### Refactoring #2: Reusing code with functions\n",
    "\n",
    "Your code should be looking prettier. But there is still some repetition, and thus margin for additional refactoring.\n",
    "\n",
    "Rather than using code of the form `input(\"Does it ...\") == \"y\"` over and over again, let's define a function.\n",
    "\n",
    "Evaluate the cell below, and then make a new cell immediately below that calls the function. (Both, evaluating a  cell, and creating a new cell below, can be achieved with `Alt-Enter`). Recall that the instructions within the function are only executed when the function is called, **not when the function definition statement is evaluated**.\n",
    "\n",
    "But first, predict what the function will do, and what it will return. Recall that `response == \"y\"` is a Boolean expression, that is, an expression that returns either `True` or `False`."
   ]
  },
  {
   "cell_type": "code",
   "execution_count": null,
   "metadata": {},
   "outputs": [],
   "source": [
    "def ask(question):\n",
    "    response = input(question)\n",
    "    is_response_affirmative = response == \"y\"\n",
    "    return is_response_affirmative"
   ]
  },
  {
   "cell_type": "markdown",
   "metadata": {},
   "source": [
    "><span style=\"color:red\">**Task 4.**</span> Refactor your classifier code again so that is uses our new `ask` function. Remember that when refactoring, the code should be working before you start, and doing the same thing when you finish! Check!"
   ]
  },
  {
   "cell_type": "code",
   "execution_count": null,
   "metadata": {},
   "outputs": [],
   "source": [
    "# Solution to Task 4 goes here"
   ]
  },
  {
   "cell_type": "markdown",
   "metadata": {},
   "source": [
    "### Defensive programming: robust interpretation of yes/no response\n",
    "\n",
    "Our code is *not* robust. Responding 'yes', or 'sure', or 'definitely' is interpreted as no.\n",
    "\n",
    "Even responding 'Y' is interpreted as no - try it. This is no good!\n",
    "\n",
    "\n",
    "><span style=\"color:red\">**Task 5.**</span> Write an improved `ask` function that accepts 'y' or 'yes' or 'Y' or 'Yes' as affirmative, and everything else as negative. \n",
    ">\n",
    ">*Hint:* Use the Python's `or` logical operator in order build the Boolean expression to be evaluated on return. Recall that a Boolean expression is an expression that returns either `True` or `False`."
   ]
  },
  {
   "cell_type": "code",
   "execution_count": null,
   "metadata": {},
   "outputs": [],
   "source": [
    "# Solution to Task 5 goes here"
   ]
  },
  {
   "cell_type": "markdown",
   "metadata": {},
   "source": [
    "### Truly robust interrogation\n",
    "\n",
    "We improved the code robustness, but we can do better again. \n",
    "\n",
    "If you asked a friend an important question, and he/she didn't understand the reply, you might well keep asking until you got a clear answer. \n",
    "\n",
    "A really robust `ask` function would keep asking, until it got an answer it understood - either a clear 'yes', or a clear 'no'. By a clear 'yes' we mean any string that, when converted to lowercase, is either equal to 'y' or 'yes'. The same applies for a clear 'no'. Thus, for example, 'nO' and 'yES' are examples of clear 'no' and 'yes', respectively.\n",
    "\n",
    "\n",
    "><span style=\"color:red\">**Task 6.**</span> Redefine the `ask` function to keep asking until it gets an answer which is clearly a 'yes' or a 'no'. When given an answer it doesn't understand, your function should tell the user that it doesn't understand and provide advice, and then ask again. Some hints:\n",
    "1. Use a `while True:` loop, and the fact that the `return` statement exits a function immediately, whether in a loop or not. \n",
    "2. While programming the previous loop, chances are high the you end up with an infinite loop. In order to interrupt the Python kernel underlying the Jupyter notebook, left-click on the cell, and hit the keyboard key labeled as `i` twice. \n",
    "3. To convert a string-typed variable named, say `response`, to lowercase, you can call its `lower` method as `response.lower()`. A method is similar to a function, but it uses a slightly different syntax: the period (also known as simply dot) in between the variable (object) and the method. Calling a method is like making a request: we are asking `response` to become lowercased. If you do not entirely grasp the concept of a method at this point, don't worry, we will work out the concept of classes, objects and methods later on in the Python workshop.\n",
    "4. You may find useful using the `in` operator, for example, the expression `response.lower() in ['y', 'yes']`.\n"
   ]
  },
  {
   "cell_type": "code",
   "execution_count": null,
   "metadata": {},
   "outputs": [],
   "source": [
    "# Solution to Task 6 goes here"
   ]
  },
  {
   "cell_type": "markdown",
   "metadata": {},
   "source": [
    "This is the end of the first notebook. Well done for getting this far! "
   ]
  },
  {
   "cell_type": "markdown",
   "metadata": {},
   "source": [
    "# Learning outcomes\n",
    "\n",
    "In this workshop you built a small *expert system*, which embeds domain knowledge from biology, and is able to classify vertebrates by asking a user questions with yes/no answers.\n",
    "\n",
    "Expert systems were one of the earliest examples of successful Artificial Intelligence (AI).\n",
    "\n",
    "The coding skills you have learnt include:\n",
    "* Prompting the user for input and storing input in a variable.\n",
    "* Using conditionals (`if-elif-else`) to branch the flow of execution, based on user input.\n",
    "* Nesting conditionals to express complex logical relationships and implement a decision tree.\n",
    "* Code refactoring #1: remove repetitive elements of output formatting.\n",
    "* Code refactoring #2: identify repeated code, and define a function to facilitate code re-use.\n",
    "* Boolean expressions. \n",
    "* Extending a function, without changing the code that calls it.\n",
    "* Iteration with an infinite loop, exited with a `return` statement.\n",
    "* Check for list membership with the `in` operator.\n"
   ]
  }
 ],
 "metadata": {
  "kernelspec": {
   "display_name": "Python 3",
   "language": "python",
   "name": "python3"
  },
  "language_info": {
   "codemirror_mode": {
    "name": "ipython",
    "version": 3
   },
   "file_extension": ".py",
   "mimetype": "text/x-python",
   "name": "python",
   "nbconvert_exporter": "python",
   "pygments_lexer": "ipython3",
   "version": "3.7.6"
  }
 },
 "nbformat": 4,
 "nbformat_minor": 4
}
