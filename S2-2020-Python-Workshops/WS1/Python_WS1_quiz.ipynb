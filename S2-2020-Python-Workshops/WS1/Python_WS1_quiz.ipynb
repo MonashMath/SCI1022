{
 "cells": [
  {
   "cell_type": "markdown",
   "metadata": {},
   "source": [
    "# SCI1022 Python workshop 1 Quiz"
   ]
  },
  {
   "cell_type": "markdown",
   "metadata": {},
   "source": [
    "## Classifying vertebrates"
   ]
  },
  {
   "cell_type": "markdown",
   "metadata": {},
   "source": [
    "### Making decisions based on input from keyboard"
   ]
  },
  {
   "cell_type": "markdown",
   "metadata": {},
   "source": [
    "In the pre-workshop videos, you saw, among others, how to:\n",
    "* Prompt the user for input and assign their response to a variable.\n",
    "* Use the equal-to operator `==` to check if two expressions have the same value.\n",
    "* Use if-statements to branch the flow of execution.\n",
    "* Display text on the screen with the `print` function.\n",
    "\n",
    "Using these skills, write a piece of Python code which:\n",
    "1. Asks the user \"Is it furry?\"  \n",
    "2. If the user answers 'y' (that is, he/she hits the key labeled as <kbd class=\"keyboard-key nowrap\" style=\"border: 1px solid #aaa; -moz-border-radius: 0.2em; -webkit-border-radius: 0.2em; border-radius: 0.2em; -moz-box-shadow: 0.1em 0.1em 0.2em rgba(0,0,0,0.1); -webkit-box-shadow: 0.1em 0.1em 0.2em rgba(0,0,0,0.1); box-shadow: 0.1em 0.1em 0.2em rgba(0,0,0,0.1); background-color: #f9f9f9; background-image: -moz-linear-gradient(top, #eee, #f9f9f9, #eee); background-image: -o-linear-gradient(top, #eee, #f9f9f9, #eee); background-image: -webkit-linear-gradient(top, #eee, #f9f9f9, #eee); background-image: linear-gradient(to bottom, #eee, #f9f9f9, #eee); color: #000; padding: 0.1em 0.3em; font-family: inherit; font-size: 0.85em;\">y</kbd>), prints \"It's a mammal.\".\n",
    "3. If the user answers something else, prints \"Maybe a fish or a bird?\".\n",
    "\n",
    "This will be your first attempt at a vertebrate classifier. It's not going to impress any biologist, but we have to start somewhere.\n",
    "\n",
    "Your code should take 4-5 lines."
   ]
  },
  {
   "cell_type": "code",
   "execution_count": null,
   "metadata": {},
   "outputs": [],
   "source": [
    "# Your code to solve the quiz goes here"
   ]
  },
  {
   "cell_type": "markdown",
   "metadata": {},
   "source": [
    "How the code behaves if you reply 'yes', rather than 'y'? We will fix during the workshop."
   ]
  },
  {
   "cell_type": "markdown",
   "metadata": {},
   "source": [
    "<span style=\"color:red\">****Write your answer to the question here****</span> "
   ]
  }
 ],
 "metadata": {
  "kernelspec": {
   "display_name": "Python 3",
   "language": "python",
   "name": "python3"
  },
  "language_info": {
   "codemirror_mode": {
    "name": "ipython",
    "version": 3
   },
   "file_extension": ".py",
   "mimetype": "text/x-python",
   "name": "python",
   "nbconvert_exporter": "python",
   "pygments_lexer": "ipython3",
   "version": "3.7.6"
  }
 },
 "nbformat": 4,
 "nbformat_minor": 4
}
