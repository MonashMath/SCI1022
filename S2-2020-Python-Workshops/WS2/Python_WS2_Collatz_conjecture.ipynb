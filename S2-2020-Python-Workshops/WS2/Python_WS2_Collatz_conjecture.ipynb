{
 "cells": [
  {
   "cell_type": "markdown",
   "metadata": {},
   "source": [
    "# SCI1022 Python workshop 2:  The Collatz conjecture"
   ]
  },
  {
   "cell_type": "markdown",
   "metadata": {},
   "source": [
    "Welcome to the second workshop of the Python stream! \n",
    "\n",
    "Some miscellaneous instructions to begin with:\n",
    "\n",
    "* Use your two hours in this workshop to work through this Jupyter notebook. \n",
    "\n",
    "* Read the instructions as you go. Execute the example code cells provided, and look carefully at the output. \n",
    "\n",
    "* Recall that, in order to execute a code cell, then you can left-click on it (either on the interior or the left-hand-side margin of the cell), and then hit `Shift-Enter`, which stands for: \"While holding pressed the `Shift` keyboard key, press the keyboard key labelled as `Enter`\". \n",
    "\n",
    "* If you struggle trying to use the Jupyter notebook, then explore usage instructions and links available at the SCI1022 Python's Moodle page. \n",
    "\n",
    "* <span style=\"color:red\">**Tasks**</span> are marked in <span style=\"color:red\">**red**</span> and displayed in indented blocks. The tasks are solved by writing code on the blank code cells provided.\n",
    "\n",
    "* Ask your instructors for help at any time.\n",
    "\n",
    "---"
   ]
  },
  {
   "cell_type": "markdown",
   "metadata": {},
   "source": [
    "## Introducing the Collatz conjecture"
   ]
  },
  {
   "cell_type": "markdown",
   "metadata": {},
   "source": [
    "While last week we focused on biology - taxonomy in particular, this week we will focus on pure mathematics in order to learn new coding skills. \n",
    "\n",
    "But do not worry, we will consider a problem that can be grasped by anyone who understands the basics of whole numbers arithmetics. (From now on, we will use the terms \"whole number\" and \"integer\" indistinctly.) Namely, addition, multiplication, and the concepts of quotient and remainder of integer division. Despite this, it is still an unsolved mystery of mathematics.\n",
    "\n",
    "We are going to see how a very simple function, applied to its result over and over (\"mathematical iteration\"), can lead to very complicated behaviour. Computers are ideal for exploring such mathematics."
   ]
  },
  {
   "cell_type": "markdown",
   "metadata": {},
   "source": [
    "><span style=\"color:red\">**Task 1.**</span> Define a function named `collatz` that takes a number as its unique argument, and:\n",
    "> * If given an even number, **returns** half the number.\n",
    "> * If given an odd number, **returns** three times the number plus one.\n",
    ">\n",
    "> For simplicity, let us assume, for the time being, that your function will always be given a number of Python type `int` (i.e., a whole number), and that we will not defend from the user providing an argument of a different type, e.g., a `float`, or even something more complex, such as a `list`. Thus, the argument provided will be **always** either even or odd. In other words, it can never be neither. Once you have written the function, test your function on a few integers using the second code cell provided below. \n",
    ">\n",
    "> *Hint*: Python provides the  modulus operator `%`, which divides two numbers, and returns the remainder. For example, `3 % 3` is equal to `0`, and `4 % 3` is equal to `1`."
   ]
  },
  {
   "cell_type": "code",
   "execution_count": null,
   "metadata": {},
   "outputs": [],
   "source": [
    "# Solution to Task 1 goes here"
   ]
  },
  {
   "cell_type": "code",
   "execution_count": null,
   "metadata": {},
   "outputs": [],
   "source": [
    "# Tests of your solution to Task 1 go here"
   ]
  },
  {
   "cell_type": "markdown",
   "metadata": {},
   "source": [
    "><span style=\"color:red\">**Task 2.**</span> Describe in words what happens if `collatz` takes a list of integer numbers, for example, `[1,7,9]`? "
   ]
  },
  {
   "cell_type": "code",
   "execution_count": null,
   "metadata": {
    "scrolled": true
   },
   "outputs": [],
   "source": [
    "# Write any code that you need to answer Task 2 here"
   ]
  },
  {
   "cell_type": "markdown",
   "metadata": {},
   "source": [
    "<span style=\"color:red\">**Write your answers to Task 2 in this cell.**</span>"
   ]
  },
  {
   "cell_type": "markdown",
   "metadata": {},
   "source": [
    "### Integer division - a refresher"
   ]
  },
  {
   "cell_type": "markdown",
   "metadata": {},
   "source": [
    "><span style=\"color:red\">**Task 3.**</span> What is the data type of the value that your `collatz` function returns when it takes a value of type `int` as an argument? And when it takes as argument a `float` with zero fractional part (for example, `7.0`)? "
   ]
  },
  {
   "cell_type": "code",
   "execution_count": null,
   "metadata": {},
   "outputs": [],
   "source": [
    "# Write any code that you need to answer Task 3 here"
   ]
  },
  {
   "cell_type": "markdown",
   "metadata": {},
   "source": [
    "<span style=\"color:red\">**Write your answers to Task 3 in this cell.**</span>"
   ]
  },
  {
   "cell_type": "markdown",
   "metadata": {},
   "source": [
    "It is convenient that `collatz` always returns a value of type `int`, i.e., an integer.  \n",
    "\n",
    "There are a few ways to do this in Python, for example, using the `int` function.  \n",
    "\n",
    "However, in the sequel we are going to explore the support in Python for *integer division*.\n",
    "\n",
    "You probably learnt integer division in school, before you learnt about decimals or fractions.\n",
    "\n",
    "In Python, the integer division is denoted with the `//` operator. This operator is also known as **floor division** operator, as it can be seen as a variant of the division that divides two numbers and rounds down to an integer.\n",
    "\n",
    "Execute the following cells to remind yourself about integer quotients and remainders, and see how these can be computed in Python."
   ]
  },
  {
   "cell_type": "code",
   "execution_count": null,
   "metadata": {},
   "outputs": [],
   "source": [
    "numerator   = 7\n",
    "denominator = 3\n",
    "\n",
    "quotient  = numerator // denominator\n",
    "remainder = numerator %  denominator\n",
    "\n",
    "print(f\"Integer division of {numerator} by {denominator} gives quotient={quotient} and remainder={remainder}\")"
   ]
  },
  {
   "cell_type": "markdown",
   "metadata": {},
   "source": [
    "Note that, in the previous cell, we have used some new syntax in the `print` statement, known as `f-strings`. (Note the `f` prefix right before the starting double quotes.) Do not worry about this for now, it does what you think it does!\n",
    "\n",
    "Let us now look at the data types of `quotient` and `remainder`."
   ]
  },
  {
   "cell_type": "code",
   "execution_count": null,
   "metadata": {},
   "outputs": [],
   "source": [
    "type(quotient)"
   ]
  },
  {
   "cell_type": "code",
   "execution_count": null,
   "metadata": {},
   "outputs": [],
   "source": [
    "type(remainder)"
   ]
  },
  {
   "cell_type": "markdown",
   "metadata": {},
   "source": [
    "><span style=\"color:red\">**Task 4.**</span> Modify your definition of `collatz` so that it returns a value of type `int`. Again, you can assume that your revised `collatz` function will always be called with an argument of type `int`."
   ]
  },
  {
   "cell_type": "code",
   "execution_count": null,
   "metadata": {},
   "outputs": [],
   "source": [
    "# Solution to Task 4 goes here"
   ]
  },
  {
   "cell_type": "markdown",
   "metadata": {},
   "source": [
    "## Hailstone sequences"
   ]
  },
  {
   "cell_type": "markdown",
   "metadata": {},
   "source": [
    "The `collatz` function does not seem remarkable. Let us do something more interesting: let us iterate it! \n",
    "\n",
    "><span style=\"color:red\">**Task 5.**</span> Write code that given an initial integer, applies the `collatz` function over and over again *indefinitely*, printing on screen the result at each iteration. For now, your code does not need to be a function. Try your code on several initial values. Do you notice any patterns? Some hints:\n",
    " * Use a `while True:` loop.\n",
    " * It is legal to use the same variable at the left and the right of an assignment statement.\n",
    " * Remember you can interrupt Python with `Kernel->Interrupt` using the menus at the top of the Jupyter notebook (or hitting the key `i` twice)."
   ]
  },
  {
   "cell_type": "code",
   "execution_count": null,
   "metadata": {},
   "outputs": [],
   "source": [
    "# Code to solve Task 5 goes here"
   ]
  },
  {
   "cell_type": "markdown",
   "metadata": {},
   "source": [
    "<span style=\"color:red\">**Write your answer to the question in Task 5 in this cell.**</span>"
   ]
  },
  {
   "cell_type": "markdown",
   "metadata": {},
   "source": [
    "## Verifying Collatz's conjecture programmatically\n",
    "\n",
    "In 1937, mathematician Lothar Collatz conjectured that this iterated sequence always reaches 1 eventually. \n",
    "\n",
    "No one has been able to prove this, despite a lot of mathematicians trying!"
   ]
  },
  {
   "cell_type": "markdown",
   "metadata": {},
   "source": [
    "><span style=\"color:red\">**Task 6.**</span> Modify the code above such that it stops when the sequence reaches 1.  Change your print statement so that it writes the numbers onto one long line (the Jupyter notebook will wrap the line for you). To do this, pass the keyword parameter `end=''` to the `print` function, i.e., `print(something, end='')`. Try the following and answer to the last question:\n",
    " * Try your code for some small and large starting values.\n",
    " * Some quite small starting values make long sequences. Try 27.\n",
    " * Some large numbers will have very short sequences. Can you think of an example?"
   ]
  },
  {
   "cell_type": "code",
   "execution_count": null,
   "metadata": {},
   "outputs": [],
   "source": [
    "# Code to solve Task 6 goes here"
   ]
  },
  {
   "cell_type": "markdown",
   "metadata": {},
   "source": [
    "<span style=\"color:red\">**Write your answer to the question in Task 6 in this cell.**</span>"
   ]
  },
  {
   "cell_type": "markdown",
   "metadata": {},
   "source": [
    "## Computing stopping times\n",
    "\n",
    "We will follow the mathematicians and call the starting value \"the seed\", and the length of the sequence until it reaches one, the \"stopping time\".\n",
    "\n",
    "While you can probably think of examples of seeds with short stopping times, we have to search for seeds with long stopping times. \n",
    "\n",
    "Let's do it."
   ]
  },
  {
   "cell_type": "markdown",
   "metadata": {},
   "source": [
    "><span style=\"color:red\">**Task 7.**</span> \n",
    "* Write a function named `stoptime` that given a seed, calculates its Hailstone sequence, and returns the stopping time (the number of steps until one). Your function must use the `collatz` function you already wrote. Your function shouldn't print anything out on screen. \n",
    "* Test your function with several seeds, and write a `for` loop to print out a table of the stopping times of the first 20 positive integer numbers."
   ]
  },
  {
   "cell_type": "code",
   "execution_count": null,
   "metadata": {},
   "outputs": [],
   "source": [
    "# Code to solve Task 7 goes here: stoptime function definition statement"
   ]
  },
  {
   "cell_type": "code",
   "execution_count": null,
   "metadata": {},
   "outputs": [],
   "source": [
    "# Code to solve Task 7 goes here: add cells for your tests, and for your table-generating code."
   ]
  },
  {
   "cell_type": "markdown",
   "metadata": {},
   "source": [
    "## Revisiting the Hailstone sequences using lists"
   ]
  },
  {
   "cell_type": "markdown",
   "metadata": {},
   "source": [
    "The code written in the previous section finds the length of a Hailstone sequence (the stopping time).\n",
    "\n",
    "What if we wanted instead to find the highest value reached instead?\n",
    "\n",
    "We could change the code and rerun it.\n",
    "\n",
    "What if we wanted to plot the sequence?\n",
    "\n",
    "Really, what we want is to store the sequence as a list. Then, we can find its length (via the `len` Python built-in function, try it!), maximum (via the `max` Python built-in function, try it!), plot it or do anything else we can do with a list."
   ]
  },
  {
   "cell_type": "markdown",
   "metadata": {},
   "source": [
    "><span style=\"color:red\">**Task 8.**</span> \n",
    "Write a function named  `hailstone` which given a seed, returns a *list* of the full sequence from the seed until it reaches one.\n",
    ">\n",
    "> *Hint*: to add an element named `x` to the end of a list named `mylist`, use `mylist.append(x)`. Recall that here you are using a method named `append` associated to the object `mylist`. A method is similar to a function, but it uses a slightly different syntax: the period (also known as simply dot) in between the variable (object) and the method. Calling a method is like making a request: we are telling `mylist` to add an element to its end."
   ]
  },
  {
   "cell_type": "code",
   "execution_count": null,
   "metadata": {},
   "outputs": [],
   "source": [
    "# Code to solve Task 8 goes here"
   ]
  },
  {
   "cell_type": "markdown",
   "metadata": {},
   "source": [
    "At first, we just printed out our sequences. \n",
    "This is fine for looking at the numbers, but we can't do any more than that with them.\n",
    "Now that we have a sequence as a list, we can compute with them, for example:"
   ]
  },
  {
   "cell_type": "code",
   "execution_count": null,
   "metadata": {},
   "outputs": [],
   "source": [
    "longseq = hailstone(6171)"
   ]
  },
  {
   "cell_type": "code",
   "execution_count": null,
   "metadata": {},
   "outputs": [],
   "source": [
    "len(longseq)"
   ]
  },
  {
   "cell_type": "code",
   "execution_count": null,
   "metadata": {},
   "outputs": [],
   "source": [
    "max(longseq)"
   ]
  },
  {
   "cell_type": "markdown",
   "metadata": {},
   "source": [
    "## Plotting Hailstone sequences"
   ]
  },
  {
   "cell_type": "markdown",
   "metadata": {},
   "source": [
    "Once we have the sequence as a list, we can plot it.\n",
    "\n",
    "Plotting is not 'built-in' with Python, but provided by external modules to be imported into our Python program.\n",
    "\n",
    "Evaluate the cells below to visualise a short and a long hailstone sequence.\n",
    "\n",
    "If you do not fully understand the code below, do not worry, plotting data will be covered in detail in later workshops.\n"
   ]
  },
  {
   "cell_type": "code",
   "execution_count": null,
   "metadata": {},
   "outputs": [],
   "source": [
    "import matplotlib.pyplot as plt\n",
    "%matplotlib inline\n",
    "plt.rcParams['figure.dpi'] = 100\n",
    "plt.rcParams['figure.figsize'] = [10, 6]"
   ]
  },
  {
   "cell_type": "code",
   "execution_count": null,
   "metadata": {},
   "outputs": [],
   "source": [
    "shortseq = hailstone(22)\n",
    "plt.plot(shortseq)"
   ]
  },
  {
   "cell_type": "code",
   "execution_count": null,
   "metadata": {},
   "outputs": [],
   "source": [
    "longseq = hailstone(6171)\n",
    "plt.plot(longseq)"
   ]
  },
  {
   "cell_type": "code",
   "execution_count": null,
   "metadata": {},
   "outputs": [],
   "source": [
    "plt.plot(longseq)\n",
    "plt.yscale('log')"
   ]
  },
  {
   "cell_type": "markdown",
   "metadata": {},
   "source": [
    "## Plotting stopping times\n",
    "\n",
    "Individual hailstone sequences look fairly random.\n",
    "\n",
    "But there is much more pattern and mystery in the stopping times!\n",
    "\n",
    "><span style=\"color:red\">**Task 9.**</span> \n",
    "> * Use the functions developed so far to create a list `times` of all stopping times for seeds from `1` to `10000`. \n",
    "> * Before iterating, initialize `times` to an empty list, which is denoted as `[]` in Python.\n",
    "> * Plot this list. \n",
    "> * Use `plt.plot(times, '.')` to get a scatterplot, rather than lines-between-points."
   ]
  },
  {
   "cell_type": "code",
   "execution_count": null,
   "metadata": {},
   "outputs": [],
   "source": [
    "# Code to solve Task 9 goes here: times function definition statement"
   ]
  },
  {
   "cell_type": "code",
   "execution_count": null,
   "metadata": {},
   "outputs": [],
   "source": [
    "# Code to solve Task 9 goes here: code to evaluate and plot stopping times"
   ]
  },
  {
   "cell_type": "markdown",
   "metadata": {},
   "source": [
    "That's the end of our exploration of the Collatz conjecture.\n",
    "\n",
    "Hopefully you've seen that writing short functions, and using them together, enables you to solve increasingly complex problems - without getting bogged down in the complexity. \n",
    "\n",
    "Indeed, at this point, you may think of programming as the process of breaking a large, complex task, into smaller and smaller subtasks until these are simpler enough to be performed with a set of coherent, concise, and well-defined functions.\n",
    "\n",
    "And lists are critically important for storing, analysing and displaying data! We'll see much more about lists, and other data types that are closely related to lists.\n"
   ]
  },
  {
   "cell_type": "markdown",
   "metadata": {},
   "source": [
    "# Learning outcomes\n",
    "\n",
    "In this workshop you built a basic mathematical function `collatz`, and iterated it. Then you built functions that called `collatz`, ultimately collecting the output into a list for further processing and plotting.\n",
    "\n",
    "These are most, if not all, the ingredients of processing data with code. \n",
    "\n",
    "The Collatz conjecture remains unsolved and is considered by mathematicians to be unlikely to be solved any time soon. \n",
    "\n",
    "The coding skills you have learnt include:\n",
    "* Conditionally-defined mathematical functions.\n",
    "* Modular arithmetic (quotient and remainder operators).\n",
    "* Awareness of implicit type conversions during calculations.\n",
    "* Iteration of function calls with stopping condition.\n",
    "* Iteration over a fixed range.\n",
    "* Initialising lists, including the empty list `[]`.\n",
    "* Creating lists by appending items.\n",
    "* Operations on lists such as `len()` and `max()`.\n",
    "* Plotting list data, as lines or points."
   ]
  }
 ],
 "metadata": {
  "kernelspec": {
   "display_name": "Python 3",
   "language": "python",
   "name": "python3"
  },
  "language_info": {
   "codemirror_mode": {
    "name": "ipython",
    "version": 3
   },
   "file_extension": ".py",
   "mimetype": "text/x-python",
   "name": "python",
   "nbconvert_exporter": "python",
   "pygments_lexer": "ipython3",
   "version": "3.7.6"
  }
 },
 "nbformat": 4,
 "nbformat_minor": 4
}
